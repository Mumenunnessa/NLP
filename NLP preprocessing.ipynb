{
  "nbformat": 4,
  "nbformat_minor": 0,
  "metadata": {
    "colab": {
      "name": "Untitled1.ipynb",
      "provenance": []
    },
    "kernelspec": {
      "name": "python3",
      "display_name": "Python 3"
    }
  },
  "cells": [
    {
      "cell_type": "code",
      "metadata": {
        "id": "Ae2NYpcp8rzd",
        "colab_type": "code",
        "colab": {
          "base_uri": "https://localhost:8080/",
          "height": 54
        },
        "outputId": "8d5842b2-bb92-4d0f-dd6a-f6566fc12238"
      },
      "source": [
        "!pip install nltk\n"
      ],
      "execution_count": null,
      "outputs": [
        {
          "output_type": "stream",
          "text": [
            "Requirement already satisfied: nltk in /usr/local/lib/python3.6/dist-packages (3.2.5)\n",
            "Requirement already satisfied: six in /usr/local/lib/python3.6/dist-packages (from nltk) (1.15.0)\n"
          ],
          "name": "stdout"
        }
      ]
    },
    {
      "cell_type": "code",
      "metadata": {
        "id": "gkJGe9RJ808U",
        "colab_type": "code",
        "colab": {
          "base_uri": "https://localhost:8080/",
          "height": 72
        },
        "outputId": "15183f69-6f34-4c01-c1af-3ed5094e9920"
      },
      "source": [
        "import nltk\n",
        "\n",
        "nltk.download('punkt')\n"
      ],
      "execution_count": null,
      "outputs": [
        {
          "output_type": "stream",
          "text": [
            "[nltk_data] Downloading package punkt to /root/nltk_data...\n",
            "[nltk_data]   Unzipping tokenizers/punkt.zip.\n"
          ],
          "name": "stdout"
        },
        {
          "output_type": "execute_result",
          "data": {
            "text/plain": [
              "True"
            ]
          },
          "metadata": {
            "tags": []
          },
          "execution_count": 2
        }
      ]
    },
    {
      "cell_type": "code",
      "metadata": {
        "id": "chu2OPO5_WhT",
        "colab_type": "code",
        "colab": {}
      },
      "source": [
        "text = \"My Name is Mumenunnessa Keya\"\n",
        "word = nltk.word_tokenize(text)"
      ],
      "execution_count": null,
      "outputs": []
    },
    {
      "cell_type": "code",
      "metadata": {
        "id": "cm13XiIF_jw5",
        "colab_type": "code",
        "colab": {
          "base_uri": "https://localhost:8080/",
          "height": 35
        },
        "outputId": "5d6a426a-84e2-4eb3-b981-f9d106ad0ae6"
      },
      "source": [
        "word"
      ],
      "execution_count": null,
      "outputs": [
        {
          "output_type": "execute_result",
          "data": {
            "text/plain": [
              "['My', 'Name', 'is', 'Mumenunnessa', 'Keya']"
            ]
          },
          "metadata": {
            "tags": []
          },
          "execution_count": 5
        }
      ]
    },
    {
      "cell_type": "code",
      "metadata": {
        "id": "XhOaX_yD_npb",
        "colab_type": "code",
        "colab": {}
      },
      "source": [
        "text_2 = \"\"\"They're going to engage in an attempt to distract from the real issues that are impacting the American people.\n",
        " And I expect that they will engage in dirty tactics. A\n",
        "nd this is going to be a knockdown, drag-out. And we're ready,\" \n",
        "Harris told media outlet TheGrio in an interview released Sunday, when asked how Trump promoting birther conspiracies signals the tactics his campaign will use.\"\"\""
      ],
      "execution_count": null,
      "outputs": []
    },
    {
      "cell_type": "code",
      "metadata": {
        "id": "mTv17RKpAL3n",
        "colab_type": "code",
        "colab": {}
      },
      "source": [
        "word2 = nltk.word_tokenize(text_2)"
      ],
      "execution_count": null,
      "outputs": []
    },
    {
      "cell_type": "code",
      "metadata": {
        "id": "un6-4SqCBAY_",
        "colab_type": "code",
        "colab": {
          "base_uri": "https://localhost:8080/",
          "height": 1000
        },
        "outputId": "88722ee5-a150-410d-c061-33cd9172faa0"
      },
      "source": [
        "word2"
      ],
      "execution_count": null,
      "outputs": [
        {
          "output_type": "execute_result",
          "data": {
            "text/plain": [
              "['They',\n",
              " \"'re\",\n",
              " 'going',\n",
              " 'to',\n",
              " 'engage',\n",
              " 'in',\n",
              " 'an',\n",
              " 'attempt',\n",
              " 'to',\n",
              " 'distract',\n",
              " 'from',\n",
              " 'the',\n",
              " 'real',\n",
              " 'issues',\n",
              " 'that',\n",
              " 'are',\n",
              " 'impacting',\n",
              " 'the',\n",
              " 'American',\n",
              " 'people',\n",
              " '.',\n",
              " 'And',\n",
              " 'I',\n",
              " 'expect',\n",
              " 'that',\n",
              " 'they',\n",
              " 'will',\n",
              " 'engage',\n",
              " 'in',\n",
              " 'dirty',\n",
              " 'tactics',\n",
              " '.',\n",
              " 'A',\n",
              " 'nd',\n",
              " 'this',\n",
              " 'is',\n",
              " 'going',\n",
              " 'to',\n",
              " 'be',\n",
              " 'a',\n",
              " 'knockdown',\n",
              " ',',\n",
              " 'drag-out',\n",
              " '.',\n",
              " 'And',\n",
              " 'we',\n",
              " \"'re\",\n",
              " 'ready',\n",
              " ',',\n",
              " \"''\",\n",
              " 'Harris',\n",
              " 'told',\n",
              " 'media',\n",
              " 'outlet',\n",
              " 'TheGrio',\n",
              " 'in',\n",
              " 'an',\n",
              " 'interview',\n",
              " 'released',\n",
              " 'Sunday',\n",
              " ',',\n",
              " 'when',\n",
              " 'asked',\n",
              " 'how',\n",
              " 'Trump',\n",
              " 'promoting',\n",
              " 'birther',\n",
              " 'conspiracies',\n",
              " 'signals',\n",
              " 'the',\n",
              " 'tactics',\n",
              " 'his',\n",
              " 'campaign',\n",
              " 'will',\n",
              " 'use',\n",
              " '.']"
            ]
          },
          "metadata": {
            "tags": []
          },
          "execution_count": 14
        }
      ]
    },
    {
      "cell_type": "code",
      "metadata": {
        "id": "XSdMfFcMBEWa",
        "colab_type": "code",
        "colab": {}
      },
      "source": [
        "sen_1 = nltk.sent_tokenize(text_2)"
      ],
      "execution_count": null,
      "outputs": []
    },
    {
      "cell_type": "code",
      "metadata": {
        "id": "j_Wy6VyQBMTi",
        "colab_type": "code",
        "colab": {
          "base_uri": "https://localhost:8080/",
          "height": 110
        },
        "outputId": "46a6d74e-777c-495f-d85e-26055ae32282"
      },
      "source": [
        "sen_1"
      ],
      "execution_count": null,
      "outputs": [
        {
          "output_type": "execute_result",
          "data": {
            "text/plain": [
              "[\"They're going to engage in an attempt to distract from the real issues that are impacting the American people.\",\n",
              " 'And I expect that they will engage in dirty tactics.',\n",
              " 'A\\nnd this is going to be a knockdown, drag-out.',\n",
              " 'And we\\'re ready,\" \\nHarris told media outlet TheGrio in an interview released Sunday, when asked how Trump promoting birther conspiracies signals the tactics his campaign will use.']"
            ]
          },
          "metadata": {
            "tags": []
          },
          "execution_count": 16
        }
      ]
    },
    {
      "cell_type": "code",
      "metadata": {
        "id": "u0Jr3_IMBQLr",
        "colab_type": "code",
        "colab": {}
      },
      "source": [
        "bn = nltk.word_tokenize(\"পুলিশ বেশী বেপরোয়া হয়ে গেছে, মানুষকে আর মানুষ মনে হয়না এদের। এই একটা শ্রেণীকে মন থেকে ঘৃণা করি।\")"
      ],
      "execution_count": null,
      "outputs": []
    },
    {
      "cell_type": "code",
      "metadata": {
        "id": "XJYNtuh8B3Mc",
        "colab_type": "code",
        "colab": {
          "base_uri": "https://localhost:8080/",
          "height": 366
        },
        "outputId": "44d95b68-93c0-43f7-ef0d-a162c50ae951"
      },
      "source": [
        "bn"
      ],
      "execution_count": null,
      "outputs": [
        {
          "output_type": "execute_result",
          "data": {
            "text/plain": [
              "['পুলিশ',\n",
              " 'বেশী',\n",
              " 'বেপরোয়া',\n",
              " 'হয়ে',\n",
              " 'গেছে',\n",
              " ',',\n",
              " 'মানুষকে',\n",
              " 'আর',\n",
              " 'মানুষ',\n",
              " 'মনে',\n",
              " 'হয়না',\n",
              " 'এদের।',\n",
              " 'এই',\n",
              " 'একটা',\n",
              " 'শ্রেণীকে',\n",
              " 'মন',\n",
              " 'থেকে',\n",
              " 'ঘৃণা',\n",
              " 'করি।']"
            ]
          },
          "metadata": {
            "tags": []
          },
          "execution_count": 18
        }
      ]
    },
    {
      "cell_type": "code",
      "metadata": {
        "id": "NigMtYXmB6NX",
        "colab_type": "code",
        "colab": {}
      },
      "source": [
        "bn2 = nltk.sent_tokenize(\"পুলিশ বেশী বেপরোয়া হয়ে গেছে, মানুষকে আর মানুষ মনে হয়না এদের। এই একটা শ্রেণীকে মন থেকে ঘৃণা করি।\")"
      ],
      "execution_count": null,
      "outputs": []
    },
    {
      "cell_type": "code",
      "metadata": {
        "id": "dI-oX-tlCJ_Y",
        "colab_type": "code",
        "colab": {
          "base_uri": "https://localhost:8080/",
          "height": 35
        },
        "outputId": "42b4e455-7057-481e-86dd-42a1a064c918"
      },
      "source": [
        "bn2"
      ],
      "execution_count": null,
      "outputs": [
        {
          "output_type": "execute_result",
          "data": {
            "text/plain": [
              "['পুলিশ বেশী বেপরোয়া হয়ে গেছে, মানুষকে আর মানুষ মনে হয়না এদের। এই একটা শ্রেণীকে মন থেকে ঘৃণা করি।']"
            ]
          },
          "metadata": {
            "tags": []
          },
          "execution_count": 20
        }
      ]
    },
    {
      "cell_type": "code",
      "metadata": {
        "id": "sfxtd6H3CO7n",
        "colab_type": "code",
        "colab": {
          "base_uri": "https://localhost:8080/",
          "height": 72
        },
        "outputId": "5830375f-96f4-4d3c-9b0f-bc41d4ae42a7"
      },
      "source": [
        "nltk.download('stopwords')"
      ],
      "execution_count": null,
      "outputs": [
        {
          "output_type": "stream",
          "text": [
            "[nltk_data] Downloading package stopwords to /root/nltk_data...\n",
            "[nltk_data]   Unzipping corpora/stopwords.zip.\n"
          ],
          "name": "stdout"
        },
        {
          "output_type": "execute_result",
          "data": {
            "text/plain": [
              "True"
            ]
          },
          "metadata": {
            "tags": []
          },
          "execution_count": 21
        }
      ]
    },
    {
      "cell_type": "code",
      "metadata": {
        "id": "uWzCLP4WCrrG",
        "colab_type": "code",
        "colab": {
          "base_uri": "https://localhost:8080/",
          "height": 90
        },
        "outputId": "58e57c99-ffae-47d5-a5ac-7516c8ae1612"
      },
      "source": [
        "from nltk.corpus import stopwords\n",
        "check = nltk.sent_tokenize(text_2)\n",
        "\n",
        "for i in range(len(check)):\n",
        "  word = nltk.word_tokenize(check[i])\n",
        "  new = [j for j in word if j not in stopwords.words('english')]\n",
        "  sent = ' '.join(new)\n",
        "  print(sent)\n"
      ],
      "execution_count": null,
      "outputs": [
        {
          "output_type": "stream",
          "text": [
            "They 're going engage attempt distract real issues impacting American people .\n",
            "And I expect engage dirty tactics .\n",
            "A nd going knockdown , drag-out .\n",
            "And 're ready , '' Harris told media outlet TheGrio interview released Sunday , asked Trump promoting birther conspiracies signals tactics campaign use .\n"
          ],
          "name": "stdout"
        }
      ]
    },
    {
      "cell_type": "code",
      "metadata": {
        "id": "1FJ7gCtaFAB4",
        "colab_type": "code",
        "colab": {
          "base_uri": "https://localhost:8080/",
          "height": 1000
        },
        "outputId": "b29ac16d-fb29-4a3f-cd17-42b063f91a23"
      },
      "source": [
        "word2"
      ],
      "execution_count": null,
      "outputs": [
        {
          "output_type": "execute_result",
          "data": {
            "text/plain": [
              "['They',\n",
              " \"'re\",\n",
              " 'going',\n",
              " 'to',\n",
              " 'engage',\n",
              " 'in',\n",
              " 'an',\n",
              " 'attempt',\n",
              " 'to',\n",
              " 'distract',\n",
              " 'from',\n",
              " 'the',\n",
              " 'real',\n",
              " 'issues',\n",
              " 'that',\n",
              " 'are',\n",
              " 'impacting',\n",
              " 'the',\n",
              " 'American',\n",
              " 'people',\n",
              " '.',\n",
              " 'And',\n",
              " 'I',\n",
              " 'expect',\n",
              " 'that',\n",
              " 'they',\n",
              " 'will',\n",
              " 'engage',\n",
              " 'in',\n",
              " 'dirty',\n",
              " 'tactics',\n",
              " '.',\n",
              " 'A',\n",
              " 'nd',\n",
              " 'this',\n",
              " 'is',\n",
              " 'going',\n",
              " 'to',\n",
              " 'be',\n",
              " 'a',\n",
              " 'knockdown',\n",
              " ',',\n",
              " 'drag-out',\n",
              " '.',\n",
              " 'And',\n",
              " 'we',\n",
              " \"'re\",\n",
              " 'ready',\n",
              " ',',\n",
              " \"''\",\n",
              " 'Harris',\n",
              " 'told',\n",
              " 'media',\n",
              " 'outlet',\n",
              " 'TheGrio',\n",
              " 'in',\n",
              " 'an',\n",
              " 'interview',\n",
              " 'released',\n",
              " 'Sunday',\n",
              " ',',\n",
              " 'when',\n",
              " 'asked',\n",
              " 'how',\n",
              " 'Trump',\n",
              " 'promoting',\n",
              " 'birther',\n",
              " 'conspiracies',\n",
              " 'signals',\n",
              " 'the',\n",
              " 'tactics',\n",
              " 'his',\n",
              " 'campaign',\n",
              " 'will',\n",
              " 'use',\n",
              " '.']"
            ]
          },
          "metadata": {
            "tags": []
          },
          "execution_count": 24
        }
      ]
    },
    {
      "cell_type": "code",
      "metadata": {
        "id": "xUrIY_IlGBKm",
        "colab_type": "code",
        "colab": {
          "base_uri": "https://localhost:8080/",
          "height": 90
        },
        "outputId": "b37aff4c-89af-48fa-9587-a0c50bb56016"
      },
      "source": [
        "nltk.download('averaged_perceptron_tagger')"
      ],
      "execution_count": null,
      "outputs": [
        {
          "output_type": "stream",
          "text": [
            "[nltk_data] Downloading package averaged_perceptron_tagger to\n",
            "[nltk_data]     /root/nltk_data...\n",
            "[nltk_data]   Unzipping taggers/averaged_perceptron_tagger.zip.\n"
          ],
          "name": "stdout"
        },
        {
          "output_type": "execute_result",
          "data": {
            "text/plain": [
              "True"
            ]
          },
          "metadata": {
            "tags": []
          },
          "execution_count": 30
        }
      ]
    },
    {
      "cell_type": "code",
      "metadata": {
        "id": "vmOBXEvhFy1g",
        "colab_type": "code",
        "colab": {}
      },
      "source": [
        "word2\n",
        "pos = nltk.pos_tag(word2)"
      ],
      "execution_count": null,
      "outputs": []
    },
    {
      "cell_type": "code",
      "metadata": {
        "id": "NKDDn5pRGlW4",
        "colab_type": "code",
        "colab": {
          "base_uri": "https://localhost:8080/",
          "height": 1000
        },
        "outputId": "4f355708-3b3c-46f5-ca1b-c559d4a8a416"
      },
      "source": [
        "pos"
      ],
      "execution_count": null,
      "outputs": [
        {
          "output_type": "execute_result",
          "data": {
            "text/plain": [
              "[('They', 'PRP'),\n",
              " (\"'re\", 'VBP'),\n",
              " ('going', 'VBG'),\n",
              " ('to', 'TO'),\n",
              " ('engage', 'VB'),\n",
              " ('in', 'IN'),\n",
              " ('an', 'DT'),\n",
              " ('attempt', 'NN'),\n",
              " ('to', 'TO'),\n",
              " ('distract', 'VB'),\n",
              " ('from', 'IN'),\n",
              " ('the', 'DT'),\n",
              " ('real', 'JJ'),\n",
              " ('issues', 'NNS'),\n",
              " ('that', 'WDT'),\n",
              " ('are', 'VBP'),\n",
              " ('impacting', 'VBG'),\n",
              " ('the', 'DT'),\n",
              " ('American', 'JJ'),\n",
              " ('people', 'NNS'),\n",
              " ('.', '.'),\n",
              " ('And', 'CC'),\n",
              " ('I', 'PRP'),\n",
              " ('expect', 'VBP'),\n",
              " ('that', 'IN'),\n",
              " ('they', 'PRP'),\n",
              " ('will', 'MD'),\n",
              " ('engage', 'VB'),\n",
              " ('in', 'IN'),\n",
              " ('dirty', 'JJ'),\n",
              " ('tactics', 'NNS'),\n",
              " ('.', '.'),\n",
              " ('A', 'DT'),\n",
              " ('nd', 'NN'),\n",
              " ('this', 'DT'),\n",
              " ('is', 'VBZ'),\n",
              " ('going', 'VBG'),\n",
              " ('to', 'TO'),\n",
              " ('be', 'VB'),\n",
              " ('a', 'DT'),\n",
              " ('knockdown', 'JJ'),\n",
              " (',', ','),\n",
              " ('drag-out', 'JJ'),\n",
              " ('.', '.'),\n",
              " ('And', 'CC'),\n",
              " ('we', 'PRP'),\n",
              " (\"'re\", 'VBP'),\n",
              " ('ready', 'JJ'),\n",
              " (',', ','),\n",
              " (\"''\", \"''\"),\n",
              " ('Harris', 'NNP'),\n",
              " ('told', 'VBD'),\n",
              " ('media', 'NNS'),\n",
              " ('outlet', 'NN'),\n",
              " ('TheGrio', 'NNP'),\n",
              " ('in', 'IN'),\n",
              " ('an', 'DT'),\n",
              " ('interview', 'NN'),\n",
              " ('released', 'VBN'),\n",
              " ('Sunday', 'NNP'),\n",
              " (',', ','),\n",
              " ('when', 'WRB'),\n",
              " ('asked', 'VBD'),\n",
              " ('how', 'WRB'),\n",
              " ('Trump', 'NNP'),\n",
              " ('promoting', 'VBG'),\n",
              " ('birther', 'NN'),\n",
              " ('conspiracies', 'NNS'),\n",
              " ('signals', 'VBP'),\n",
              " ('the', 'DT'),\n",
              " ('tactics', 'NNS'),\n",
              " ('his', 'PRP$'),\n",
              " ('campaign', 'NN'),\n",
              " ('will', 'MD'),\n",
              " ('use', 'VB'),\n",
              " ('.', '.')]"
            ]
          },
          "metadata": {
            "tags": []
          },
          "execution_count": 32
        }
      ]
    },
    {
      "cell_type": "code",
      "metadata": {
        "id": "_9MXdwdBGoiw",
        "colab_type": "code",
        "colab": {}
      },
      "source": [
        "word_tag = []\n",
        "for tg in range(len()):\n",
        "  word_tag.append(tg)\n",
        "  tag_text = \" \".join(word_tag)\n",
        "  print(tag_text)"
      ],
      "execution_count": null,
      "outputs": []
    },
    {
      "cell_type": "code",
      "metadata": {
        "id": "TdyBFPuqHR8V",
        "colab_type": "code",
        "colab": {}
      },
      "source": [
        "#steamer(porter)\n",
        "from nltk.stem import PorterStemmer\n",
        "\n",
        "\n"
      ],
      "execution_count": null,
      "outputs": []
    },
    {
      "cell_type": "code",
      "metadata": {
        "id": "kPJPGGdBImAK",
        "colab_type": "code",
        "colab": {
          "base_uri": "https://localhost:8080/",
          "height": 55
        },
        "outputId": "73f8653b-8ace-4ce9-ac58-bd0b2c6b7a36"
      },
      "source": [
        "sentences=nltk.sent_tokenize(text_2)\n",
        "stemmer=PorterStemmer()\n",
        "for i in range(len(sentences)):\n",
        "    words=nltk.word_tokenize(sentences[i])\n",
        "    newwords=[stemmer.stem(word) for word in words]\n",
        "    sentences[i]=' '.join(newwords)\n",
        "print(sentences)"
      ],
      "execution_count": null,
      "outputs": [
        {
          "output_type": "stream",
          "text": [
            "[\"they 're go to engag in an attempt to distract from the real issu that are impact the american peopl .\", 'and I expect that they will engag in dirti tactic .', 'A nd thi is go to be a knockdown , drag-out .', \"and we 're readi , '' harri told media outlet thegrio in an interview releas sunday , when ask how trump promot birther conspiraci signal the tactic hi campaign will use .\"]\n"
          ],
          "name": "stdout"
        }
      ]
    },
    {
      "cell_type": "code",
      "metadata": {
        "id": "triH0sy9KcCs",
        "colab_type": "code",
        "colab": {
          "base_uri": "https://localhost:8080/",
          "height": 72
        },
        "outputId": "4d07a6cf-bc71-4e34-ce8a-5ef3da2499f0"
      },
      "source": [
        "nltk.download('wordnet')"
      ],
      "execution_count": null,
      "outputs": [
        {
          "output_type": "stream",
          "text": [
            "[nltk_data] Downloading package wordnet to /root/nltk_data...\n",
            "[nltk_data]   Unzipping corpora/wordnet.zip.\n"
          ],
          "name": "stdout"
        },
        {
          "output_type": "execute_result",
          "data": {
            "text/plain": [
              "True"
            ]
          },
          "metadata": {
            "tags": []
          },
          "execution_count": 45
        }
      ]
    },
    {
      "cell_type": "code",
      "metadata": {
        "id": "aIIwVaiEKFbl",
        "colab_type": "code",
        "colab": {
          "base_uri": "https://localhost:8080/",
          "height": 55
        },
        "outputId": "5470f7b5-14d2-48dd-803a-b4a913730145"
      },
      "source": [
        "from nltk.stem import WordNetLemmatizer\n",
        "sentences=nltk.sent_tokenize(text_2)\n",
        "lemmatizer=WordNetLemmatizer()\n",
        "for i in range(len(sentences)):\n",
        "    words=nltk.word_tokenize(sentences[i])\n",
        "    newwords=[lemmatizer.lemmatize(word) for word in words]\n",
        "    sentences[i]=' '.join(newwords)\n",
        "print(sentences)"
      ],
      "execution_count": null,
      "outputs": [
        {
          "output_type": "stream",
          "text": [
            "[\"They 're going to engage in an attempt to distract from the real issue that are impacting the American people .\", 'And I expect that they will engage in dirty tactic .', 'A nd this is going to be a knockdown , drag-out .', \"And we 're ready , '' Harris told medium outlet TheGrio in an interview released Sunday , when asked how Trump promoting birther conspiracy signal the tactic his campaign will use .\"]\n"
          ],
          "name": "stdout"
        }
      ]
    },
    {
      "cell_type": "code",
      "metadata": {
        "id": "k6RZFQKfLE7P",
        "colab_type": "code",
        "colab": {
          "base_uri": "https://localhost:8080/",
          "height": 127
        },
        "outputId": "fe96b243-6f0f-4a96-9333-ee25e4adc2ef"
      },
      "source": [
        "nltk.download('maxent_ne_chunker')\n",
        "nltk.download('words')"
      ],
      "execution_count": null,
      "outputs": [
        {
          "output_type": "stream",
          "text": [
            "[nltk_data] Downloading package maxent_ne_chunker to\n",
            "[nltk_data]     /root/nltk_data...\n",
            "[nltk_data]   Unzipping chunkers/maxent_ne_chunker.zip.\n",
            "[nltk_data] Downloading package words to /root/nltk_data...\n",
            "[nltk_data]   Unzipping corpora/words.zip.\n"
          ],
          "name": "stdout"
        },
        {
          "output_type": "execute_result",
          "data": {
            "text/plain": [
              "True"
            ]
          },
          "metadata": {
            "tags": []
          },
          "execution_count": 47
        }
      ]
    },
    {
      "cell_type": "code",
      "metadata": {
        "id": "i63xxcK6LiRN",
        "colab_type": "code",
        "colab": {}
      },
      "source": [
        "words=nltk.word_tokenize(text_2)\n",
        "tagged_words=nltk.pos_tag(words)\n",
        "\n"
      ],
      "execution_count": null,
      "outputs": []
    },
    {
      "cell_type": "code",
      "metadata": {
        "id": "1Xg3sIClM8bL",
        "colab_type": "code",
        "colab": {}
      },
      "source": [
        ""
      ],
      "execution_count": null,
      "outputs": []
    }
  ]
}