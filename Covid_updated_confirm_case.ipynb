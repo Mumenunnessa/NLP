{
  "nbformat": 4,
  "nbformat_minor": 0,
  "metadata": {
    "colab": {
      "name": "Covid-updated confirm case.ipynb",
      "provenance": [],
      "collapsed_sections": [],
      "mount_file_id": "1J-l0Ef5R0SkYCRKe8HAqkhwn41b36qIA",
      "authorship_tag": "ABX9TyOMd3wBF48yykNTot+rQibN",
      "include_colab_link": true
    },
    "kernelspec": {
      "name": "python3",
      "display_name": "Python 3"
    },
    "language_info": {
      "name": "python"
    }
  },
  "cells": [
    {
      "cell_type": "markdown",
      "metadata": {
        "id": "view-in-github",
        "colab_type": "text"
      },
      "source": [
        "<a href=\"https://colab.research.google.com/github/Mumenunnessa/NLP/blob/master/Covid_updated_confirm_case.ipynb\" target=\"_parent\"><img src=\"https://colab.research.google.com/assets/colab-badge.svg\" alt=\"Open In Colab\"/></a>"
      ]
    },
    {
      "cell_type": "code",
      "metadata": {
        "colab": {
          "base_uri": "https://localhost:8080/"
        },
        "id": "7dQNTUmM8vx0",
        "outputId": "4f724886-524b-4b71-817f-d61ac84bfb05"
      },
      "source": [
        "!pip install --upgrade tensorflow"
      ],
      "execution_count": 40,
      "outputs": [
        {
          "output_type": "stream",
          "text": [
            "Requirement already up-to-date: tensorflow in /usr/local/lib/python3.7/dist-packages (2.4.1)\n",
            "Requirement already satisfied, skipping upgrade: gast==0.3.3 in /usr/local/lib/python3.7/dist-packages (from tensorflow) (0.3.3)\n",
            "Requirement already satisfied, skipping upgrade: numpy~=1.19.2 in /usr/local/lib/python3.7/dist-packages (from tensorflow) (1.19.5)\n",
            "Requirement already satisfied, skipping upgrade: termcolor~=1.1.0 in /usr/local/lib/python3.7/dist-packages (from tensorflow) (1.1.0)\n",
            "Requirement already satisfied, skipping upgrade: typing-extensions~=3.7.4 in /usr/local/lib/python3.7/dist-packages (from tensorflow) (3.7.4.3)\n",
            "Requirement already satisfied, skipping upgrade: flatbuffers~=1.12.0 in /usr/local/lib/python3.7/dist-packages (from tensorflow) (1.12)\n",
            "Requirement already satisfied, skipping upgrade: tensorflow-estimator<2.5.0,>=2.4.0 in /usr/local/lib/python3.7/dist-packages (from tensorflow) (2.4.0)\n",
            "Requirement already satisfied, skipping upgrade: protobuf>=3.9.2 in /usr/local/lib/python3.7/dist-packages (from tensorflow) (3.12.4)\n",
            "Requirement already satisfied, skipping upgrade: opt-einsum~=3.3.0 in /usr/local/lib/python3.7/dist-packages (from tensorflow) (3.3.0)\n",
            "Requirement already satisfied, skipping upgrade: six~=1.15.0 in /usr/local/lib/python3.7/dist-packages (from tensorflow) (1.15.0)\n",
            "Requirement already satisfied, skipping upgrade: astunparse~=1.6.3 in /usr/local/lib/python3.7/dist-packages (from tensorflow) (1.6.3)\n",
            "Requirement already satisfied, skipping upgrade: wrapt~=1.12.1 in /usr/local/lib/python3.7/dist-packages (from tensorflow) (1.12.1)\n",
            "Requirement already satisfied, skipping upgrade: keras-preprocessing~=1.1.2 in /usr/local/lib/python3.7/dist-packages (from tensorflow) (1.1.2)\n",
            "Requirement already satisfied, skipping upgrade: absl-py~=0.10 in /usr/local/lib/python3.7/dist-packages (from tensorflow) (0.12.0)\n",
            "Requirement already satisfied, skipping upgrade: google-pasta~=0.2 in /usr/local/lib/python3.7/dist-packages (from tensorflow) (0.2.0)\n",
            "Requirement already satisfied, skipping upgrade: h5py~=2.10.0 in /usr/local/lib/python3.7/dist-packages (from tensorflow) (2.10.0)\n",
            "Requirement already satisfied, skipping upgrade: wheel~=0.35 in /usr/local/lib/python3.7/dist-packages (from tensorflow) (0.36.2)\n",
            "Requirement already satisfied, skipping upgrade: tensorboard~=2.4 in /usr/local/lib/python3.7/dist-packages (from tensorflow) (2.4.1)\n",
            "Requirement already satisfied, skipping upgrade: grpcio~=1.32.0 in /usr/local/lib/python3.7/dist-packages (from tensorflow) (1.32.0)\n",
            "Requirement already satisfied, skipping upgrade: setuptools in /usr/local/lib/python3.7/dist-packages (from protobuf>=3.9.2->tensorflow) (54.2.0)\n",
            "Requirement already satisfied, skipping upgrade: tensorboard-plugin-wit>=1.6.0 in /usr/local/lib/python3.7/dist-packages (from tensorboard~=2.4->tensorflow) (1.8.0)\n",
            "Requirement already satisfied, skipping upgrade: markdown>=2.6.8 in /usr/local/lib/python3.7/dist-packages (from tensorboard~=2.4->tensorflow) (3.3.4)\n",
            "Requirement already satisfied, skipping upgrade: requests<3,>=2.21.0 in /usr/local/lib/python3.7/dist-packages (from tensorboard~=2.4->tensorflow) (2.23.0)\n",
            "Requirement already satisfied, skipping upgrade: google-auth<2,>=1.6.3 in /usr/local/lib/python3.7/dist-packages (from tensorboard~=2.4->tensorflow) (1.28.0)\n",
            "Requirement already satisfied, skipping upgrade: google-auth-oauthlib<0.5,>=0.4.1 in /usr/local/lib/python3.7/dist-packages (from tensorboard~=2.4->tensorflow) (0.4.3)\n",
            "Requirement already satisfied, skipping upgrade: werkzeug>=0.11.15 in /usr/local/lib/python3.7/dist-packages (from tensorboard~=2.4->tensorflow) (1.0.1)\n",
            "Requirement already satisfied, skipping upgrade: importlib-metadata; python_version < \"3.8\" in /usr/local/lib/python3.7/dist-packages (from markdown>=2.6.8->tensorboard~=2.4->tensorflow) (3.8.1)\n",
            "Requirement already satisfied, skipping upgrade: idna<3,>=2.5 in /usr/local/lib/python3.7/dist-packages (from requests<3,>=2.21.0->tensorboard~=2.4->tensorflow) (2.10)\n",
            "Requirement already satisfied, skipping upgrade: urllib3!=1.25.0,!=1.25.1,<1.26,>=1.21.1 in /usr/local/lib/python3.7/dist-packages (from requests<3,>=2.21.0->tensorboard~=2.4->tensorflow) (1.24.3)\n",
            "Requirement already satisfied, skipping upgrade: certifi>=2017.4.17 in /usr/local/lib/python3.7/dist-packages (from requests<3,>=2.21.0->tensorboard~=2.4->tensorflow) (2020.12.5)\n",
            "Requirement already satisfied, skipping upgrade: chardet<4,>=3.0.2 in /usr/local/lib/python3.7/dist-packages (from requests<3,>=2.21.0->tensorboard~=2.4->tensorflow) (3.0.4)\n",
            "Requirement already satisfied, skipping upgrade: pyasn1-modules>=0.2.1 in /usr/local/lib/python3.7/dist-packages (from google-auth<2,>=1.6.3->tensorboard~=2.4->tensorflow) (0.2.8)\n",
            "Requirement already satisfied, skipping upgrade: rsa<5,>=3.1.4; python_version >= \"3.6\" in /usr/local/lib/python3.7/dist-packages (from google-auth<2,>=1.6.3->tensorboard~=2.4->tensorflow) (4.7.2)\n",
            "Requirement already satisfied, skipping upgrade: cachetools<5.0,>=2.0.0 in /usr/local/lib/python3.7/dist-packages (from google-auth<2,>=1.6.3->tensorboard~=2.4->tensorflow) (4.2.1)\n",
            "Requirement already satisfied, skipping upgrade: requests-oauthlib>=0.7.0 in /usr/local/lib/python3.7/dist-packages (from google-auth-oauthlib<0.5,>=0.4.1->tensorboard~=2.4->tensorflow) (1.3.0)\n",
            "Requirement already satisfied, skipping upgrade: zipp>=0.5 in /usr/local/lib/python3.7/dist-packages (from importlib-metadata; python_version < \"3.8\"->markdown>=2.6.8->tensorboard~=2.4->tensorflow) (3.4.1)\n",
            "Requirement already satisfied, skipping upgrade: pyasn1<0.5.0,>=0.4.6 in /usr/local/lib/python3.7/dist-packages (from pyasn1-modules>=0.2.1->google-auth<2,>=1.6.3->tensorboard~=2.4->tensorflow) (0.4.8)\n",
            "Requirement already satisfied, skipping upgrade: oauthlib>=3.0.0 in /usr/local/lib/python3.7/dist-packages (from requests-oauthlib>=0.7.0->google-auth-oauthlib<0.5,>=0.4.1->tensorboard~=2.4->tensorflow) (3.1.0)\n"
          ],
          "name": "stdout"
        }
      ]
    },
    {
      "cell_type": "code",
      "metadata": {
        "colab": {
          "base_uri": "https://localhost:8080/"
        },
        "id": "orvaRo0P86R6",
        "outputId": "acc9d05e-5054-46ac-b95e-3d0c9bf57932"
      },
      "source": [
        "from google.colab import drive\n",
        "drive.mount('/content/gdrive')"
      ],
      "execution_count": 41,
      "outputs": [
        {
          "output_type": "stream",
          "text": [
            "Drive already mounted at /content/gdrive; to attempt to forcibly remount, call drive.mount(\"/content/gdrive\", force_remount=True).\n"
          ],
          "name": "stdout"
        }
      ]
    },
    {
      "cell_type": "code",
      "metadata": {
        "id": "bPi-uO9D9FsW"
      },
      "source": [
        "import math\n",
        "import pandas as pd\n",
        "import numpy as np\n",
        "import matplotlib.pyplot as plt\n",
        "from sklearn.preprocessing import MinMaxScaler\n",
        "from sklearn.metrics import mean_squared_error\n",
        "from keras.models import Sequential\n",
        "from keras.layers import Dense, LSTM, Dropout"
      ],
      "execution_count": 42,
      "outputs": []
    },
    {
      "cell_type": "code",
      "metadata": {
        "id": "1s3GJe6A9WAX"
      },
      "source": [
        "RANDOM_SEED = 42\n",
        "TEST_SIZE = 0.3\n",
        "LOOK_BACK = 1\n",
        "BATCH_SIZE = 1\n",
        "EPOCHS = 100\n",
        "DAYS_TO_PREDICT = 30\n",
        "Location=\"Bangladesh\"\n",
        "Train_case = 'Confirmed'"
      ],
      "execution_count": 43,
      "outputs": []
    },
    {
      "cell_type": "code",
      "metadata": {
        "id": "lIA6jzqs9YhP"
      },
      "source": [
        "np.random.seed(RANDOM_SEED)"
      ],
      "execution_count": 44,
      "outputs": []
    },
    {
      "cell_type": "code",
      "metadata": {
        "id": "IBRhCZ3a9gMC"
      },
      "source": [
        "df=pd.read_csv(\"/content/gdrive/MyDrive/Personal things (important)/covid-update.csv\")"
      ],
      "execution_count": 45,
      "outputs": []
    },
    {
      "cell_type": "code",
      "metadata": {
        "colab": {
          "base_uri": "https://localhost:8080/",
          "height": 1000
        },
        "id": "2Z_KS2p39neW",
        "outputId": "5f187906-57dc-4fb2-fb9d-199ede303b6f"
      },
      "source": [
        "df"
      ],
      "execution_count": 46,
      "outputs": [
        {
          "output_type": "execute_result",
          "data": {
            "text/html": [
              "<div>\n",
              "<style scoped>\n",
              "    .dataframe tbody tr th:only-of-type {\n",
              "        vertical-align: middle;\n",
              "    }\n",
              "\n",
              "    .dataframe tbody tr th {\n",
              "        vertical-align: top;\n",
              "    }\n",
              "\n",
              "    .dataframe thead th {\n",
              "        text-align: right;\n",
              "    }\n",
              "</style>\n",
              "<table border=\"1\" class=\"dataframe\">\n",
              "  <thead>\n",
              "    <tr style=\"text-align: right;\">\n",
              "      <th></th>\n",
              "      <th>Date</th>\n",
              "      <th>Confirmed</th>\n",
              "      <th>Deaths</th>\n",
              "      <th>Recovery</th>\n",
              "    </tr>\n",
              "  </thead>\n",
              "  <tbody>\n",
              "    <tr>\n",
              "      <th>0</th>\n",
              "      <td>2/1/2021</td>\n",
              "      <td>443</td>\n",
              "      <td>10</td>\n",
              "      <td>472</td>\n",
              "    </tr>\n",
              "    <tr>\n",
              "      <th>1</th>\n",
              "      <td>2/2/2021</td>\n",
              "      <td>525</td>\n",
              "      <td>12</td>\n",
              "      <td>512</td>\n",
              "    </tr>\n",
              "    <tr>\n",
              "      <th>2</th>\n",
              "      <td>2/3/2021</td>\n",
              "      <td>438</td>\n",
              "      <td>13</td>\n",
              "      <td>578</td>\n",
              "    </tr>\n",
              "    <tr>\n",
              "      <th>3</th>\n",
              "      <td>2/4/2021</td>\n",
              "      <td>485</td>\n",
              "      <td>13</td>\n",
              "      <td>611</td>\n",
              "    </tr>\n",
              "    <tr>\n",
              "      <th>4</th>\n",
              "      <td>2/5/2021</td>\n",
              "      <td>435</td>\n",
              "      <td>7</td>\n",
              "      <td>507</td>\n",
              "    </tr>\n",
              "    <tr>\n",
              "      <th>5</th>\n",
              "      <td>2/6/2021</td>\n",
              "      <td>305</td>\n",
              "      <td>8</td>\n",
              "      <td>417</td>\n",
              "    </tr>\n",
              "    <tr>\n",
              "      <th>6</th>\n",
              "      <td>2/7/2021</td>\n",
              "      <td>292</td>\n",
              "      <td>15</td>\n",
              "      <td>417</td>\n",
              "    </tr>\n",
              "    <tr>\n",
              "      <th>7</th>\n",
              "      <td>2/8/2021</td>\n",
              "      <td>316</td>\n",
              "      <td>16</td>\n",
              "      <td>559</td>\n",
              "    </tr>\n",
              "    <tr>\n",
              "      <th>8</th>\n",
              "      <td>2/9/2021</td>\n",
              "      <td>387</td>\n",
              "      <td>8</td>\n",
              "      <td>642</td>\n",
              "    </tr>\n",
              "    <tr>\n",
              "      <th>9</th>\n",
              "      <td>2/10/2021</td>\n",
              "      <td>388</td>\n",
              "      <td>10</td>\n",
              "      <td>717</td>\n",
              "    </tr>\n",
              "    <tr>\n",
              "      <th>10</th>\n",
              "      <td>2/11/2021</td>\n",
              "      <td>418</td>\n",
              "      <td>9</td>\n",
              "      <td>681</td>\n",
              "    </tr>\n",
              "    <tr>\n",
              "      <th>11</th>\n",
              "      <td>2/12/2021</td>\n",
              "      <td>404</td>\n",
              "      <td>5</td>\n",
              "      <td>422</td>\n",
              "    </tr>\n",
              "    <tr>\n",
              "      <th>12</th>\n",
              "      <td>2/13/2021</td>\n",
              "      <td>291</td>\n",
              "      <td>13</td>\n",
              "      <td>374</td>\n",
              "    </tr>\n",
              "    <tr>\n",
              "      <th>13</th>\n",
              "      <td>2/14/2021</td>\n",
              "      <td>326</td>\n",
              "      <td>8</td>\n",
              "      <td>462</td>\n",
              "    </tr>\n",
              "    <tr>\n",
              "      <th>14</th>\n",
              "      <td>2/15/2021</td>\n",
              "      <td>446</td>\n",
              "      <td>11</td>\n",
              "      <td>641</td>\n",
              "    </tr>\n",
              "    <tr>\n",
              "      <th>15</th>\n",
              "      <td>2/16/2021</td>\n",
              "      <td>396</td>\n",
              "      <td>13</td>\n",
              "      <td>751</td>\n",
              "    </tr>\n",
              "    <tr>\n",
              "      <th>16</th>\n",
              "      <td>2/17/2021</td>\n",
              "      <td>443</td>\n",
              "      <td>16</td>\n",
              "      <td>633</td>\n",
              "    </tr>\n",
              "    <tr>\n",
              "      <th>17</th>\n",
              "      <td>2/18/2021</td>\n",
              "      <td>391</td>\n",
              "      <td>15</td>\n",
              "      <td>678</td>\n",
              "    </tr>\n",
              "    <tr>\n",
              "      <th>18</th>\n",
              "      <td>2/19/2021</td>\n",
              "      <td>406</td>\n",
              "      <td>8</td>\n",
              "      <td>536</td>\n",
              "    </tr>\n",
              "    <tr>\n",
              "      <th>19</th>\n",
              "      <td>2/20/2021</td>\n",
              "      <td>350</td>\n",
              "      <td>5</td>\n",
              "      <td>424</td>\n",
              "    </tr>\n",
              "    <tr>\n",
              "      <th>20</th>\n",
              "      <td>2/21/2021</td>\n",
              "      <td>327</td>\n",
              "      <td>7</td>\n",
              "      <td>475</td>\n",
              "    </tr>\n",
              "    <tr>\n",
              "      <th>21</th>\n",
              "      <td>2/22/2021</td>\n",
              "      <td>366</td>\n",
              "      <td>7</td>\n",
              "      <td>692</td>\n",
              "    </tr>\n",
              "    <tr>\n",
              "      <th>22</th>\n",
              "      <td>2/23/2021</td>\n",
              "      <td>399</td>\n",
              "      <td>18</td>\n",
              "      <td>828</td>\n",
              "    </tr>\n",
              "    <tr>\n",
              "      <th>23</th>\n",
              "      <td>2/24/2021</td>\n",
              "      <td>428</td>\n",
              "      <td>5</td>\n",
              "      <td>911</td>\n",
              "    </tr>\n",
              "    <tr>\n",
              "      <th>24</th>\n",
              "      <td>2/25/2021</td>\n",
              "      <td>410</td>\n",
              "      <td>5</td>\n",
              "      <td>957</td>\n",
              "    </tr>\n",
              "    <tr>\n",
              "      <th>25</th>\n",
              "      <td>2/26/2021</td>\n",
              "      <td>470</td>\n",
              "      <td>11</td>\n",
              "      <td>743</td>\n",
              "    </tr>\n",
              "    <tr>\n",
              "      <th>26</th>\n",
              "      <td>2/27/2021</td>\n",
              "      <td>407</td>\n",
              "      <td>5</td>\n",
              "      <td>609</td>\n",
              "    </tr>\n",
              "    <tr>\n",
              "      <th>27</th>\n",
              "      <td>2/28/2021</td>\n",
              "      <td>385</td>\n",
              "      <td>8</td>\n",
              "      <td>817</td>\n",
              "    </tr>\n",
              "    <tr>\n",
              "      <th>28</th>\n",
              "      <td>3/1/2021</td>\n",
              "      <td>585</td>\n",
              "      <td>8</td>\n",
              "      <td>873</td>\n",
              "    </tr>\n",
              "    <tr>\n",
              "      <th>29</th>\n",
              "      <td>3/2/2021</td>\n",
              "      <td>515</td>\n",
              "      <td>7</td>\n",
              "      <td>894</td>\n",
              "    </tr>\n",
              "    <tr>\n",
              "      <th>30</th>\n",
              "      <td>3/3/2021</td>\n",
              "      <td>614</td>\n",
              "      <td>5</td>\n",
              "      <td>936</td>\n",
              "    </tr>\n",
              "    <tr>\n",
              "      <th>31</th>\n",
              "      <td>3/4/2021</td>\n",
              "      <td>619</td>\n",
              "      <td>7</td>\n",
              "      <td>841</td>\n",
              "    </tr>\n",
              "    <tr>\n",
              "      <th>32</th>\n",
              "      <td>3/5/2021</td>\n",
              "      <td>635</td>\n",
              "      <td>6</td>\n",
              "      <td>676</td>\n",
              "    </tr>\n",
              "    <tr>\n",
              "      <th>33</th>\n",
              "      <td>3/6/2021</td>\n",
              "      <td>540</td>\n",
              "      <td>10</td>\n",
              "      <td>822</td>\n",
              "    </tr>\n",
              "    <tr>\n",
              "      <th>34</th>\n",
              "      <td>3/7/2021</td>\n",
              "      <td>606</td>\n",
              "      <td>11</td>\n",
              "      <td>1037</td>\n",
              "    </tr>\n",
              "    <tr>\n",
              "      <th>35</th>\n",
              "      <td>3/8/2021</td>\n",
              "      <td>845</td>\n",
              "      <td>14</td>\n",
              "      <td>1117</td>\n",
              "    </tr>\n",
              "    <tr>\n",
              "      <th>36</th>\n",
              "      <td>3/9/2021</td>\n",
              "      <td>912</td>\n",
              "      <td>13</td>\n",
              "      <td>1229</td>\n",
              "    </tr>\n",
              "    <tr>\n",
              "      <th>37</th>\n",
              "      <td>3/10/2021</td>\n",
              "      <td>1018</td>\n",
              "      <td>7</td>\n",
              "      <td>1264</td>\n",
              "    </tr>\n",
              "    <tr>\n",
              "      <th>38</th>\n",
              "      <td>3/11/2021</td>\n",
              "      <td>1051</td>\n",
              "      <td>6</td>\n",
              "      <td>1307</td>\n",
              "    </tr>\n",
              "    <tr>\n",
              "      <th>39</th>\n",
              "      <td>3/12/2021</td>\n",
              "      <td>1066</td>\n",
              "      <td>13</td>\n",
              "      <td>1252</td>\n",
              "    </tr>\n",
              "    <tr>\n",
              "      <th>40</th>\n",
              "      <td>3/13/2021</td>\n",
              "      <td>1014</td>\n",
              "      <td>12</td>\n",
              "      <td>1138</td>\n",
              "    </tr>\n",
              "    <tr>\n",
              "      <th>41</th>\n",
              "      <td>3/14/2021</td>\n",
              "      <td>1159</td>\n",
              "      <td>18</td>\n",
              "      <td>1385</td>\n",
              "    </tr>\n",
              "    <tr>\n",
              "      <th>42</th>\n",
              "      <td>3/15/2021</td>\n",
              "      <td>1773</td>\n",
              "      <td>26</td>\n",
              "      <td>1432</td>\n",
              "    </tr>\n",
              "    <tr>\n",
              "      <th>43</th>\n",
              "      <td>3/16/2021</td>\n",
              "      <td>1719</td>\n",
              "      <td>26</td>\n",
              "      <td>1352</td>\n",
              "    </tr>\n",
              "    <tr>\n",
              "      <th>44</th>\n",
              "      <td>3/17/2021</td>\n",
              "      <td>1865</td>\n",
              "      <td>11</td>\n",
              "      <td>1510</td>\n",
              "    </tr>\n",
              "    <tr>\n",
              "      <th>45</th>\n",
              "      <td>3/18/2021</td>\n",
              "      <td>2187</td>\n",
              "      <td>16</td>\n",
              "      <td>1534</td>\n",
              "    </tr>\n",
              "    <tr>\n",
              "      <th>46</th>\n",
              "      <td>3/19/2021</td>\n",
              "      <td>1899</td>\n",
              "      <td>18</td>\n",
              "      <td>1618</td>\n",
              "    </tr>\n",
              "    <tr>\n",
              "      <th>47</th>\n",
              "      <td>3/20/2021</td>\n",
              "      <td>1868</td>\n",
              "      <td>26</td>\n",
              "      <td>1577</td>\n",
              "    </tr>\n",
              "    <tr>\n",
              "      <th>48</th>\n",
              "      <td>3/21/2021</td>\n",
              "      <td>2172</td>\n",
              "      <td>22</td>\n",
              "      <td>1687</td>\n",
              "    </tr>\n",
              "    <tr>\n",
              "      <th>49</th>\n",
              "      <td>3/22/2021</td>\n",
              "      <td>2809</td>\n",
              "      <td>30</td>\n",
              "      <td>1754</td>\n",
              "    </tr>\n",
              "    <tr>\n",
              "      <th>50</th>\n",
              "      <td>3/23/2021</td>\n",
              "      <td>3554</td>\n",
              "      <td>18</td>\n",
              "      <td>1835</td>\n",
              "    </tr>\n",
              "    <tr>\n",
              "      <th>51</th>\n",
              "      <td>3/24/2021</td>\n",
              "      <td>3567</td>\n",
              "      <td>25</td>\n",
              "      <td>1915</td>\n",
              "    </tr>\n",
              "    <tr>\n",
              "      <th>52</th>\n",
              "      <td>3/25/2021</td>\n",
              "      <td>3587</td>\n",
              "      <td>34</td>\n",
              "      <td>1985</td>\n",
              "    </tr>\n",
              "    <tr>\n",
              "      <th>53</th>\n",
              "      <td>3/26/2021</td>\n",
              "      <td>3737</td>\n",
              "      <td>33</td>\n",
              "      <td>2057</td>\n",
              "    </tr>\n",
              "    <tr>\n",
              "      <th>54</th>\n",
              "      <td>3/27/2021</td>\n",
              "      <td>3674</td>\n",
              "      <td>39</td>\n",
              "      <td>1971</td>\n",
              "    </tr>\n",
              "    <tr>\n",
              "      <th>55</th>\n",
              "      <td>3/28/2021</td>\n",
              "      <td>3908</td>\n",
              "      <td>35</td>\n",
              "      <td>2019</td>\n",
              "    </tr>\n",
              "    <tr>\n",
              "      <th>56</th>\n",
              "      <td>3/29/2021</td>\n",
              "      <td>5181</td>\n",
              "      <td>45</td>\n",
              "      <td>2077</td>\n",
              "    </tr>\n",
              "    <tr>\n",
              "      <th>57</th>\n",
              "      <td>3/30/2021</td>\n",
              "      <td>5042</td>\n",
              "      <td>45</td>\n",
              "      <td>2162</td>\n",
              "    </tr>\n",
              "    <tr>\n",
              "      <th>58</th>\n",
              "      <td>3/31/2021</td>\n",
              "      <td>5358</td>\n",
              "      <td>52</td>\n",
              "      <td>2219</td>\n",
              "    </tr>\n",
              "  </tbody>\n",
              "</table>\n",
              "</div>"
            ],
            "text/plain": [
              "             Date  Confirmed  Deaths  Recovery\n",
              "0        2/1/2021        443      10       472\n",
              "1        2/2/2021        525      12       512\n",
              "2        2/3/2021        438      13       578\n",
              "3        2/4/2021        485      13       611\n",
              "4        2/5/2021        435       7       507\n",
              "5        2/6/2021        305       8       417\n",
              "6        2/7/2021        292      15       417\n",
              "7        2/8/2021        316      16       559\n",
              "8        2/9/2021        387       8       642\n",
              "9       2/10/2021        388      10       717\n",
              "10      2/11/2021        418       9       681\n",
              "11      2/12/2021        404       5       422\n",
              "12      2/13/2021        291      13       374\n",
              "13      2/14/2021        326       8       462\n",
              "14      2/15/2021        446      11       641\n",
              "15      2/16/2021        396      13       751\n",
              "16      2/17/2021        443      16       633\n",
              "17      2/18/2021        391      15       678\n",
              "18      2/19/2021        406       8       536\n",
              "19      2/20/2021        350       5       424\n",
              "20      2/21/2021        327       7       475\n",
              "21      2/22/2021        366       7       692\n",
              "22      2/23/2021        399      18       828\n",
              "23      2/24/2021        428       5       911\n",
              "24      2/25/2021        410       5       957\n",
              "25      2/26/2021        470      11       743\n",
              "26      2/27/2021        407       5       609\n",
              "27      2/28/2021        385       8       817\n",
              "28       3/1/2021        585       8       873\n",
              "29       3/2/2021        515       7       894\n",
              "30       3/3/2021        614       5       936\n",
              "31       3/4/2021        619       7       841\n",
              "32       3/5/2021        635       6       676\n",
              "33       3/6/2021        540      10       822\n",
              "34       3/7/2021        606      11      1037\n",
              "35       3/8/2021        845      14      1117\n",
              "36       3/9/2021        912      13      1229\n",
              "37      3/10/2021       1018       7      1264\n",
              "38      3/11/2021       1051       6      1307\n",
              "39      3/12/2021       1066      13      1252\n",
              "40      3/13/2021       1014      12      1138\n",
              "41      3/14/2021       1159      18      1385\n",
              "42      3/15/2021       1773      26      1432\n",
              "43      3/16/2021       1719      26      1352\n",
              "44      3/17/2021       1865      11      1510\n",
              "45      3/18/2021       2187      16      1534\n",
              "46      3/19/2021       1899      18      1618\n",
              "47      3/20/2021       1868      26      1577\n",
              "48      3/21/2021       2172      22      1687\n",
              "49      3/22/2021       2809      30      1754\n",
              "50      3/23/2021       3554      18      1835\n",
              "51      3/24/2021       3567      25      1915\n",
              "52      3/25/2021       3587      34      1985\n",
              "53      3/26/2021       3737      33      2057\n",
              "54      3/27/2021       3674      39      1971\n",
              "55      3/28/2021       3908      35      2019\n",
              "56      3/29/2021       5181      45      2077\n",
              "57      3/30/2021       5042      45      2162\n",
              "58      3/31/2021       5358      52      2219"
            ]
          },
          "metadata": {
            "tags": []
          },
          "execution_count": 46
        }
      ]
    },
    {
      "cell_type": "code",
      "metadata": {
        "colab": {
          "base_uri": "https://localhost:8080/",
          "height": 283
        },
        "id": "W3Qsv1fy9pfK",
        "outputId": "fc3aab0d-0a2a-4577-e92d-c4677954400d"
      },
      "source": [
        "df.plot()\n",
        "plt.figure(dpi=86)\n",
        "plt.show()  "
      ],
      "execution_count": 47,
      "outputs": [
        {
          "output_type": "display_data",
          "data": {
            "image/png": "[encoded data removed]",
            "text/plain": [
              "<Figure size 432x288 with 1 Axes>"
            ]
          },
          "metadata": {
            "tags": [],
            "needs_background": "light"
          }
        },
        {
          "output_type": "display_data",
          "data": {
            "text/plain": [
              "<Figure size 516x344 with 0 Axes>"
            ]
          },
          "metadata": {
            "tags": []
          }
        }
      ]
    },
    {
      "cell_type": "code",
      "metadata": {
        "colab": {
          "base_uri": "https://localhost:8080/",
          "height": 206
        },
        "id": "yKpeO3We90Hd",
        "outputId": "6345cdf9-ab9c-4556-90ad-cb4879b76fdd"
      },
      "source": [
        "df.head()"
      ],
      "execution_count": 48,
      "outputs": [
        {
          "output_type": "execute_result",
          "data": {
            "text/html": [
              "<div>\n",
              "<style scoped>\n",
              "    .dataframe tbody tr th:only-of-type {\n",
              "        vertical-align: middle;\n",
              "    }\n",
              "\n",
              "    .dataframe tbody tr th {\n",
              "        vertical-align: top;\n",
              "    }\n",
              "\n",
              "    .dataframe thead th {\n",
              "        text-align: right;\n",
              "    }\n",
              "</style>\n",
              "<table border=\"1\" class=\"dataframe\">\n",
              "  <thead>\n",
              "    <tr style=\"text-align: right;\">\n",
              "      <th></th>\n",
              "      <th>Date</th>\n",
              "      <th>Confirmed</th>\n",
              "      <th>Deaths</th>\n",
              "      <th>Recovery</th>\n",
              "    </tr>\n",
              "  </thead>\n",
              "  <tbody>\n",
              "    <tr>\n",
              "      <th>0</th>\n",
              "      <td>2/1/2021</td>\n",
              "      <td>443</td>\n",
              "      <td>10</td>\n",
              "      <td>472</td>\n",
              "    </tr>\n",
              "    <tr>\n",
              "      <th>1</th>\n",
              "      <td>2/2/2021</td>\n",
              "      <td>525</td>\n",
              "      <td>12</td>\n",
              "      <td>512</td>\n",
              "    </tr>\n",
              "    <tr>\n",
              "      <th>2</th>\n",
              "      <td>2/3/2021</td>\n",
              "      <td>438</td>\n",
              "      <td>13</td>\n",
              "      <td>578</td>\n",
              "    </tr>\n",
              "    <tr>\n",
              "      <th>3</th>\n",
              "      <td>2/4/2021</td>\n",
              "      <td>485</td>\n",
              "      <td>13</td>\n",
              "      <td>611</td>\n",
              "    </tr>\n",
              "    <tr>\n",
              "      <th>4</th>\n",
              "      <td>2/5/2021</td>\n",
              "      <td>435</td>\n",
              "      <td>7</td>\n",
              "      <td>507</td>\n",
              "    </tr>\n",
              "  </tbody>\n",
              "</table>\n",
              "</div>"
            ],
            "text/plain": [
              "       Date  Confirmed  Deaths  Recovery\n",
              "0  2/1/2021        443      10       472\n",
              "1  2/2/2021        525      12       512\n",
              "2  2/3/2021        438      13       578\n",
              "3  2/4/2021        485      13       611\n",
              "4  2/5/2021        435       7       507"
            ]
          },
          "metadata": {
            "tags": []
          },
          "execution_count": 48
        }
      ]
    },
    {
      "cell_type": "code",
      "metadata": {
        "id": "6G8OblyD94YS"
      },
      "source": [
        "df.set_index('Date', inplace=True)\n",
        "df.index = pd.to_datetime(df.index)"
      ],
      "execution_count": 49,
      "outputs": []
    },
    {
      "cell_type": "code",
      "metadata": {
        "colab": {
          "base_uri": "https://localhost:8080/",
          "height": 238
        },
        "id": "KT9Ibryt98sS",
        "outputId": "d0e8f0b1-a981-4612-ffff-1e1dbd23f53f"
      },
      "source": [
        "df.head()"
      ],
      "execution_count": 50,
      "outputs": [
        {
          "output_type": "execute_result",
          "data": {
            "text/html": [
              "<div>\n",
              "<style scoped>\n",
              "    .dataframe tbody tr th:only-of-type {\n",
              "        vertical-align: middle;\n",
              "    }\n",
              "\n",
              "    .dataframe tbody tr th {\n",
              "        vertical-align: top;\n",
              "    }\n",
              "\n",
              "    .dataframe thead th {\n",
              "        text-align: right;\n",
              "    }\n",
              "</style>\n",
              "<table border=\"1\" class=\"dataframe\">\n",
              "  <thead>\n",
              "    <tr style=\"text-align: right;\">\n",
              "      <th></th>\n",
              "      <th>Confirmed</th>\n",
              "      <th>Deaths</th>\n",
              "      <th>Recovery</th>\n",
              "    </tr>\n",
              "    <tr>\n",
              "      <th>Date</th>\n",
              "      <th></th>\n",
              "      <th></th>\n",
              "      <th></th>\n",
              "    </tr>\n",
              "  </thead>\n",
              "  <tbody>\n",
              "    <tr>\n",
              "      <th>2021-02-01</th>\n",
              "      <td>443</td>\n",
              "      <td>10</td>\n",
              "      <td>472</td>\n",
              "    </tr>\n",
              "    <tr>\n",
              "      <th>2021-02-02</th>\n",
              "      <td>525</td>\n",
              "      <td>12</td>\n",
              "      <td>512</td>\n",
              "    </tr>\n",
              "    <tr>\n",
              "      <th>2021-02-03</th>\n",
              "      <td>438</td>\n",
              "      <td>13</td>\n",
              "      <td>578</td>\n",
              "    </tr>\n",
              "    <tr>\n",
              "      <th>2021-02-04</th>\n",
              "      <td>485</td>\n",
              "      <td>13</td>\n",
              "      <td>611</td>\n",
              "    </tr>\n",
              "    <tr>\n",
              "      <th>2021-02-05</th>\n",
              "      <td>435</td>\n",
              "      <td>7</td>\n",
              "      <td>507</td>\n",
              "    </tr>\n",
              "  </tbody>\n",
              "</table>\n",
              "</div>"
            ],
            "text/plain": [
              "            Confirmed  Deaths  Recovery\n",
              "Date                                   \n",
              "2021-02-01        443      10       472\n",
              "2021-02-02        525      12       512\n",
              "2021-02-03        438      13       578\n",
              "2021-02-04        485      13       611\n",
              "2021-02-05        435       7       507"
            ]
          },
          "metadata": {
            "tags": []
          },
          "execution_count": 50
        }
      ]
    },
    {
      "cell_type": "code",
      "metadata": {
        "colab": {
          "base_uri": "https://localhost:8080/"
        },
        "id": "TeCRGI829_WN",
        "outputId": "b7dc6adc-9fe9-41af-b648-a5964178d7f7"
      },
      "source": [
        "df.shape"
      ],
      "execution_count": 51,
      "outputs": [
        {
          "output_type": "execute_result",
          "data": {
            "text/plain": [
              "(59, 3)"
            ]
          },
          "metadata": {
            "tags": []
          },
          "execution_count": 51
        }
      ]
    },
    {
      "cell_type": "code",
      "metadata": {
        "id": "0xV4GRrh-CRI"
      },
      "source": [
        "cases = df.filter([Train_case])\n",
        "cases = cases[(cases.T != 0).any()]"
      ],
      "execution_count": 52,
      "outputs": []
    },
    {
      "cell_type": "code",
      "metadata": {
        "colab": {
          "base_uri": "https://localhost:8080/",
          "height": 238
        },
        "id": "VtUar325-HUH",
        "outputId": "29704bbc-00e3-4d9f-df9c-487bbe1c1b52"
      },
      "source": [
        "cases.head()"
      ],
      "execution_count": 53,
      "outputs": [
        {
          "output_type": "execute_result",
          "data": {
            "text/html": [
              "<div>\n",
              "<style scoped>\n",
              "    .dataframe tbody tr th:only-of-type {\n",
              "        vertical-align: middle;\n",
              "    }\n",
              "\n",
              "    .dataframe tbody tr th {\n",
              "        vertical-align: top;\n",
              "    }\n",
              "\n",
              "    .dataframe thead th {\n",
              "        text-align: right;\n",
              "    }\n",
              "</style>\n",
              "<table border=\"1\" class=\"dataframe\">\n",
              "  <thead>\n",
              "    <tr style=\"text-align: right;\">\n",
              "      <th></th>\n",
              "      <th>Confirmed</th>\n",
              "    </tr>\n",
              "    <tr>\n",
              "      <th>Date</th>\n",
              "      <th></th>\n",
              "    </tr>\n",
              "  </thead>\n",
              "  <tbody>\n",
              "    <tr>\n",
              "      <th>2021-02-01</th>\n",
              "      <td>443</td>\n",
              "    </tr>\n",
              "    <tr>\n",
              "      <th>2021-02-02</th>\n",
              "      <td>525</td>\n",
              "    </tr>\n",
              "    <tr>\n",
              "      <th>2021-02-03</th>\n",
              "      <td>438</td>\n",
              "    </tr>\n",
              "    <tr>\n",
              "      <th>2021-02-04</th>\n",
              "      <td>485</td>\n",
              "    </tr>\n",
              "    <tr>\n",
              "      <th>2021-02-05</th>\n",
              "      <td>435</td>\n",
              "    </tr>\n",
              "  </tbody>\n",
              "</table>\n",
              "</div>"
            ],
            "text/plain": [
              "            Confirmed\n",
              "Date                 \n",
              "2021-02-01        443\n",
              "2021-02-02        525\n",
              "2021-02-03        438\n",
              "2021-02-04        485\n",
              "2021-02-05        435"
            ]
          },
          "metadata": {
            "tags": []
          },
          "execution_count": 53
        }
      ]
    },
    {
      "cell_type": "code",
      "metadata": {
        "colab": {
          "base_uri": "https://localhost:8080/",
          "height": 353
        },
        "id": "-2FrDQjg-JZB",
        "outputId": "69d4e2b8-152b-4534-9dd7-966ab3fa5b04"
      },
      "source": [
        "plt.figure(figsize=(6,4))\n",
        "plt.figure(dpi=86)\n",
        "plt.suptitle('Everyday Confirmed Cases in Bangladesh',fontsize=8,fontweight='bold')\n",
        "plt.plot(cases, label=Train_case,color='red', linewidth=2.5)\n",
        "plt.xlabel('Date',fontsize=8,fontweight='bold')\n",
        "plt.ylabel('Confirmed Case',fontsize=8,fontweight='bold')\n",
        "plt.xticks(rotation=70)\n",
        "plt.legend(prop={\"size\":8})\n",
        "plt.tight_layout(3)\n",
        "plt.show()\n",
        "plt.show()"
      ],
      "execution_count": 54,
      "outputs": [
        {
          "output_type": "display_data",
          "data": {
            "text/plain": [
              "<Figure size 432x288 with 0 Axes>"
            ]
          },
          "metadata": {
            "tags": []
          }
        },
        {
          "output_type": "display_data",
          "data": {
            "image/png": "[encoded data removed]",
            "text/plain": [
              "<Figure size 516x344 with 1 Axes>"
            ]
          },
          "metadata": {
            "tags": [],
            "needs_background": "light"
          }
        }
      ]
    },
    {
      "cell_type": "code",
      "metadata": {
        "colab": {
          "base_uri": "https://localhost:8080/",
          "height": 353
        },
        "id": "rCcc5BgW-jPi",
        "outputId": "03d3f282-bb6f-455c-af8c-2822bc65074b"
      },
      "source": [
        "plt.figure(figsize=(6,4))\n",
        "plt.figure(dpi=86)\n",
        "plt.suptitle('Everyday Deaths Cases in Bangladesh',fontsize=8,fontweight='bold')\n",
        "plt.plot(df.Deaths, label='Deaths',color='red',linewidth=2.5)\n",
        "plt.xlabel('Date',fontsize=8,fontweight='bold')\n",
        "plt.ylabel('Deaths',fontsize=8,fontweight='bold')\n",
        "plt.xticks(rotation=70)\n",
        "plt.legend(prop={\"size\":8})\n",
        "plt.tight_layout(3)\n",
        "plt.show()\n",
        "plt.show()"
      ],
      "execution_count": 55,
      "outputs": [
        {
          "output_type": "display_data",
          "data": {
            "text/plain": [
              "<Figure size 432x288 with 0 Axes>"
            ]
          },
          "metadata": {
            "tags": []
          }
        },
        {
          "output_type": "display_data",
          "data": {
            "image/png": "[encoded data removed]",
            "text/plain": [
              "<Figure size 516x344 with 1 Axes>"
            ]
          },
          "metadata": {
            "tags": [],
            "needs_background": "light"
          }
        }
      ]
    },
    {
      "cell_type": "code",
      "metadata": {
        "colab": {
          "base_uri": "https://localhost:8080/",
          "height": 353
        },
        "id": "JBT_B17N_kLt",
        "outputId": "2c5b85de-b230-47b8-ae4a-0b320664d379"
      },
      "source": [
        "plt.figure(figsize=(6,4))\n",
        "plt.figure(dpi=86)\n",
        "plt.suptitle('Everyday Recovery Cases in Bangladesh',fontsize=8,fontweight='bold')\n",
        "plt.plot(df.Recovery, label='Recovery',color='green',linewidth=2.5)\n",
        "plt.xlabel('Date',fontsize=8,fontweight='bold')\n",
        "plt.ylabel('Recovery',fontsize=8,fontweight='bold')\n",
        "plt.xticks(rotation=70)\n",
        "plt.legend(prop={\"size\":8})\n",
        "plt.tight_layout(3)\n",
        "plt.show()\n",
        "#plt.show()"
      ],
      "execution_count": 56,
      "outputs": [
        {
          "output_type": "display_data",
          "data": {
            "text/plain": [
              "<Figure size 432x288 with 0 Axes>"
            ]
          },
          "metadata": {
            "tags": []
          }
        },
        {
          "output_type": "display_data",
          "data": {
            "image/png": "[encoded data removed]",
            "text/plain": [
              "<Figure size 516x344 with 1 Axes>"
            ]
          },
          "metadata": {
            "tags": [],
            "needs_background": "light"
          }
        }
      ]
    },
    {
      "cell_type": "code",
      "metadata": {
        "colab": {
          "base_uri": "https://localhost:8080/"
        },
        "id": "GddDIRt4zI9v",
        "outputId": "d756cf4e-f741-475e-f797-58c29bf50b6d"
      },
      "source": [
        "cases.shape"
      ],
      "execution_count": 57,
      "outputs": [
        {
          "output_type": "execute_result",
          "data": {
            "text/plain": [
              "(59, 1)"
            ]
          },
          "metadata": {
            "tags": []
          },
          "execution_count": 57
        }
      ]
    },
    {
      "cell_type": "code",
      "metadata": {
        "id": "kGMdoPBnzPIL"
      },
      "source": [
        "def data_split(data, look_back=1):\n",
        "    x, y = [], []\n",
        "    for i in range(len(data) - look_back - 1):\n",
        "        a = data[i:(i + look_back), 0]\n",
        "        x.append(a)\n",
        "        y.append(data[i + look_back, 0])\n",
        "    return np.array(x), np.array(y)"
      ],
      "execution_count": 58,
      "outputs": []
    },
    {
      "cell_type": "code",
      "metadata": {
        "id": "zjDiw2QtzTiz"
      },
      "source": [
        "test_size = TEST_SIZE\n",
        "test_size = int(cases.shape[0] * test_size)\n",
        "train_cases = cases[:-test_size]\n",
        "test_cases = cases[-test_size:]\n"
      ],
      "execution_count": 59,
      "outputs": []
    },
    {
      "cell_type": "code",
      "metadata": {
        "colab": {
          "base_uri": "https://localhost:8080/"
        },
        "id": "UIp3aguxzWEx",
        "outputId": "3162e763-e9b8-4cad-f417-78f0d2779a6f"
      },
      "source": [
        "train_cases.shape"
      ],
      "execution_count": 60,
      "outputs": [
        {
          "output_type": "execute_result",
          "data": {
            "text/plain": [
              "(42, 1)"
            ]
          },
          "metadata": {
            "tags": []
          },
          "execution_count": 60
        }
      ]
    },
    {
      "cell_type": "code",
      "metadata": {
        "colab": {
          "base_uri": "https://localhost:8080/"
        },
        "id": "ukjxbmV_zbdj",
        "outputId": "cb06fdc5-2721-4df9-d9c3-4d7ad1568ad7"
      },
      "source": [
        "test_cases.shape"
      ],
      "execution_count": 61,
      "outputs": [
        {
          "output_type": "execute_result",
          "data": {
            "text/plain": [
              "(17, 1)"
            ]
          },
          "metadata": {
            "tags": []
          },
          "execution_count": 61
        }
      ]
    },
    {
      "cell_type": "code",
      "metadata": {
        "id": "H9nXhUM_zc5f"
      },
      "source": [
        "scaler = MinMaxScaler(feature_range=(-1, 1))\n",
        "scaler = scaler.fit(cases)\n",
        "all_cases = scaler.transform(cases)\n",
        "train_cases = scaler.transform(train_cases)\n",
        "test_cases = scaler.transform(test_cases)"
      ],
      "execution_count": 62,
      "outputs": []
    },
    {
      "cell_type": "code",
      "metadata": {
        "colab": {
          "base_uri": "https://localhost:8080/"
        },
        "id": "S6Pt37cCzyzs",
        "outputId": "74ea0b66-fa9a-4c3b-cc3f-06aac3c22f97"
      },
      "source": [
        "all_cases.shape,train_cases.shape,test_cases.shape"
      ],
      "execution_count": 63,
      "outputs": [
        {
          "output_type": "execute_result",
          "data": {
            "text/plain": [
              "((59, 1), (42, 1), (17, 1))"
            ]
          },
          "metadata": {
            "tags": []
          },
          "execution_count": 63
        }
      ]
    },
    {
      "cell_type": "code",
      "metadata": {
        "id": "tUlTJKJlz2LN"
      },
      "source": [
        "look_back = LOOK_BACK\n",
        "X_all, Y_all = data_split(all_cases, look_back=look_back)\n",
        "X_train, Y_train = data_split(train_cases, look_back=look_back)\n",
        "X_test, Y_test = data_split(test_cases, look_back=look_back)"
      ],
      "execution_count": 64,
      "outputs": []
    },
    {
      "cell_type": "code",
      "metadata": {
        "colab": {
          "base_uri": "https://localhost:8080/"
        },
        "id": "mInTI4Fg0BCT",
        "outputId": "b06d9f9f-96d8-4005-8358-b4080c82cb16"
      },
      "source": [
        "X_all.shape,X_train.shape,X_test.shape"
      ],
      "execution_count": 65,
      "outputs": [
        {
          "output_type": "execute_result",
          "data": {
            "text/plain": [
              "((57, 1), (40, 1), (15, 1))"
            ]
          },
          "metadata": {
            "tags": []
          },
          "execution_count": 65
        }
      ]
    },
    {
      "cell_type": "code",
      "metadata": {
        "id": "cchPoh730EHo"
      },
      "source": [
        "X_all = np.array(X_all).reshape(X_all.shape[0], 1, 1)\n",
        "Y_all = np.array(Y_all).reshape(Y_all.shape[0], 1)\n",
        "X_train = np.array(X_train).reshape(X_train.shape[0], 1, 1)\n",
        "Y_train = np.array(Y_train).reshape(Y_train.shape[0], 1)\n",
        "X_test = np.array(X_test).reshape(X_test.shape[0], 1, 1)\n",
        "Y_test = np.array(Y_test).reshape(Y_test.shape[0], 1)"
      ],
      "execution_count": 66,
      "outputs": []
    },
    {
      "cell_type": "code",
      "metadata": {
        "colab": {
          "base_uri": "https://localhost:8080/"
        },
        "id": "80HXlfkV0HPc",
        "outputId": "e1890f6e-6e45-447f-86bd-1c7ce865319f"
      },
      "source": [
        "X_all.shape,Y_all.shape,X_train.shape,Y_train.shape,X_test.shape,Y_test.shape"
      ],
      "execution_count": 67,
      "outputs": [
        {
          "output_type": "execute_result",
          "data": {
            "text/plain": [
              "((57, 1, 1), (57, 1), (40, 1, 1), (40, 1), (15, 1, 1), (15, 1))"
            ]
          },
          "metadata": {
            "tags": []
          },
          "execution_count": 67
        }
      ]
    },
    {
      "cell_type": "markdown",
      "metadata": {
        "id": "IJ6yKo2s0UgM"
      },
      "source": [
        "LSTM"
      ]
    },
    {
      "cell_type": "code",
      "metadata": {
        "colab": {
          "base_uri": "https://localhost:8080/"
        },
        "id": "TozI1Kvy0W4y",
        "outputId": "18e34cc9-cfc1-41ed-f79e-9822008d7548"
      },
      "source": [
        "batch_size = BATCH_SIZE\n",
        "model = Sequential()\n",
        "model.add(LSTM(4, return_sequences=True, \n",
        "               batch_input_shape=(batch_size, X_train.shape[1], X_train.shape[2]), \n",
        "               stateful=True))\n",
        "model.add(LSTM(1, stateful=True))\n",
        "model.add(Dense(Y_train.shape[1]))\n",
        "model.compile(loss='mean_squared_error', optimizer='adam')\n",
        "print(model.summary())"
      ],
      "execution_count": 68,
      "outputs": [
        {
          "output_type": "stream",
          "text": [
            "Model: \"sequential\"\n",
            "_________________________________________________________________\n",
            "Layer (type)                 Output Shape              Param #   \n",
            "=================================================================\n",
            "lstm (LSTM)                  (1, 1, 4)                 96        \n",
            "_________________________________________________________________\n",
            "lstm_1 (LSTM)                (1, 1)                    24        \n",
            "_________________________________________________________________\n",
            "dense (Dense)                (1, 1)                    2         \n",
            "=================================================================\n",
            "Total params: 122\n",
            "Trainable params: 122\n",
            "Non-trainable params: 0\n",
            "_________________________________________________________________\n",
            "None\n"
          ],
          "name": "stdout"
        }
      ]
    },
    {
      "cell_type": "code",
      "metadata": {
        "colab": {
          "base_uri": "https://localhost:8080/",
          "height": 422
        },
        "id": "n0aOhDx50b_a",
        "outputId": "61641183-d5ca-4bce-d0e1-10efe31e0312"
      },
      "source": [
        "from tensorflow.keras.utils import plot_model\n",
        "plot_model(model, to_file='model.png', show_shapes=True)"
      ],
      "execution_count": 69,
      "outputs": [
        {
          "output_type": "execute_result",
          "data": {
            "image/png": "[encoded data removed]",
            "text/plain": [
              "<IPython.core.display.Image object>"
            ]
          },
          "metadata": {
            "tags": []
          },
          "execution_count": 69
        }
      ]
    },
    {
      "cell_type": "code",
      "metadata": {
        "colab": {
          "base_uri": "https://localhost:8080/"
        },
        "id": "h2GuqAmq0g19",
        "outputId": "f77ba8ec-906a-4e6e-a50c-f0bfe09469de"
      },
      "source": [
        "epoch = EPOCHS\n",
        "loss = []\n",
        "for i in range(epoch):\n",
        "    print('Iteration ' + str(i + 1) + '/' + str(epoch))\n",
        "    model.fit(X_train, Y_train, batch_size=batch_size, \n",
        "              epochs=1, verbose=1, shuffle=False)\n",
        "    h = model.history\n",
        "    loss.append(h.history['loss'][0])\n",
        "    model.reset_states()"
      ],
      "execution_count": 70,
      "outputs": [
        {
          "output_type": "stream",
          "text": [
            "Iteration 1/100\n",
            "40/40 [==============================] - 5s 4ms/step - loss: 1.0391\n",
            "Iteration 2/100\n",
            "40/40 [==============================] - 0s 4ms/step - loss: 0.5590\n",
            "Iteration 3/100\n",
            "40/40 [==============================] - 0s 4ms/step - loss: 0.2579\n",
            "Iteration 4/100\n",
            "40/40 [==============================] - 0s 4ms/step - loss: 0.1012\n",
            "Iteration 5/100\n",
            "40/40 [==============================] - 0s 5ms/step - loss: 0.0642\n",
            "Iteration 6/100\n",
            "40/40 [==============================] - 0s 5ms/step - loss: 0.0553\n",
            "Iteration 7/100\n",
            "40/40 [==============================] - 0s 4ms/step - loss: 0.0504\n",
            "Iteration 8/100\n",
            "40/40 [==============================] - 0s 4ms/step - loss: 0.0465\n",
            "Iteration 9/100\n",
            "40/40 [==============================] - 0s 4ms/step - loss: 0.0432\n",
            "Iteration 10/100\n",
            "40/40 [==============================] - 0s 4ms/step - loss: 0.0403\n",
            "Iteration 11/100\n",
            "40/40 [==============================] - 0s 3ms/step - loss: 0.0377\n",
            "Iteration 12/100\n",
            "40/40 [==============================] - 0s 4ms/step - loss: 0.0354\n",
            "Iteration 13/100\n",
            "40/40 [==============================] - 0s 4ms/step - loss: 0.0334\n",
            "Iteration 14/100\n",
            "40/40 [==============================] - 0s 3ms/step - loss: 0.0316\n",
            "Iteration 15/100\n",
            "40/40 [==============================] - 0s 3ms/step - loss: 0.0299\n",
            "Iteration 16/100\n",
            "40/40 [==============================] - 0s 3ms/step - loss: 0.0285\n",
            "Iteration 17/100\n",
            "40/40 [==============================] - 0s 4ms/step - loss: 0.0271\n",
            "Iteration 18/100\n",
            "40/40 [==============================] - 0s 5ms/step - loss: 0.0259\n",
            "Iteration 19/100\n",
            "40/40 [==============================] - 0s 4ms/step - loss: 0.0248\n",
            "Iteration 20/100\n",
            "40/40 [==============================] - 0s 3ms/step - loss: 0.0238\n",
            "Iteration 21/100\n",
            "40/40 [==============================] - 0s 4ms/step - loss: 0.0229\n",
            "Iteration 22/100\n",
            "40/40 [==============================] - 0s 3ms/step - loss: 0.0220\n",
            "Iteration 23/100\n",
            "40/40 [==============================] - 0s 3ms/step - loss: 0.0213\n",
            "Iteration 24/100\n",
            "40/40 [==============================] - 0s 3ms/step - loss: 0.0205\n",
            "Iteration 25/100\n",
            "40/40 [==============================] - 0s 3ms/step - loss: 0.0199\n",
            "Iteration 26/100\n",
            "40/40 [==============================] - 0s 3ms/step - loss: 0.0193\n",
            "Iteration 27/100\n",
            "40/40 [==============================] - 0s 3ms/step - loss: 0.0187\n",
            "Iteration 28/100\n",
            "40/40 [==============================] - 0s 3ms/step - loss: 0.0181\n",
            "Iteration 29/100\n",
            "40/40 [==============================] - 0s 3ms/step - loss: 0.0176\n",
            "Iteration 30/100\n",
            "40/40 [==============================] - 0s 3ms/step - loss: 0.0172\n",
            "Iteration 31/100\n",
            "40/40 [==============================] - 0s 3ms/step - loss: 0.0167\n",
            "Iteration 32/100\n",
            "40/40 [==============================] - 0s 3ms/step - loss: 0.0163\n",
            "Iteration 33/100\n",
            "40/40 [==============================] - 0s 3ms/step - loss: 0.0159\n",
            "Iteration 34/100\n",
            "40/40 [==============================] - 0s 3ms/step - loss: 0.0156\n",
            "Iteration 35/100\n",
            "40/40 [==============================] - 0s 3ms/step - loss: 0.0152\n",
            "Iteration 36/100\n",
            "40/40 [==============================] - 0s 4ms/step - loss: 0.0149\n",
            "Iteration 37/100\n",
            "40/40 [==============================] - 0s 4ms/step - loss: 0.0146\n",
            "Iteration 38/100\n",
            "40/40 [==============================] - 0s 3ms/step - loss: 0.0143\n",
            "Iteration 39/100\n",
            "40/40 [==============================] - 0s 4ms/step - loss: 0.0141\n",
            "Iteration 40/100\n",
            "40/40 [==============================] - 0s 4ms/step - loss: 0.0138\n",
            "Iteration 41/100\n",
            "40/40 [==============================] - 0s 4ms/step - loss: 0.0135\n",
            "Iteration 42/100\n",
            "40/40 [==============================] - 0s 3ms/step - loss: 0.0133\n",
            "Iteration 43/100\n",
            "40/40 [==============================] - 0s 3ms/step - loss: 0.0131\n",
            "Iteration 44/100\n",
            "40/40 [==============================] - 0s 3ms/step - loss: 0.0129\n",
            "Iteration 45/100\n",
            "40/40 [==============================] - 0s 3ms/step - loss: 0.0127\n",
            "Iteration 46/100\n",
            "40/40 [==============================] - 0s 3ms/step - loss: 0.0125\n",
            "Iteration 47/100\n",
            "40/40 [==============================] - 0s 4ms/step - loss: 0.0123\n",
            "Iteration 48/100\n",
            "40/40 [==============================] - 0s 3ms/step - loss: 0.0121\n",
            "Iteration 49/100\n",
            "40/40 [==============================] - 0s 2ms/step - loss: 0.0120\n",
            "Iteration 50/100\n",
            "40/40 [==============================] - 0s 3ms/step - loss: 0.0118\n",
            "Iteration 51/100\n",
            "40/40 [==============================] - 0s 3ms/step - loss: 0.0116\n",
            "Iteration 52/100\n",
            "40/40 [==============================] - 0s 4ms/step - loss: 0.0115\n",
            "Iteration 53/100\n",
            "40/40 [==============================] - 0s 3ms/step - loss: 0.0113\n",
            "Iteration 54/100\n",
            "40/40 [==============================] - 0s 3ms/step - loss: 0.0112\n",
            "Iteration 55/100\n",
            "40/40 [==============================] - 0s 3ms/step - loss: 0.0111\n",
            "Iteration 56/100\n",
            "40/40 [==============================] - 0s 2ms/step - loss: 0.0110\n",
            "Iteration 57/100\n",
            "40/40 [==============================] - 0s 2ms/step - loss: 0.0108\n",
            "Iteration 58/100\n",
            "40/40 [==============================] - 0s 2ms/step - loss: 0.0107\n",
            "Iteration 59/100\n",
            "40/40 [==============================] - 0s 3ms/step - loss: 0.0106\n",
            "Iteration 60/100\n",
            "40/40 [==============================] - 0s 3ms/step - loss: 0.0105\n",
            "Iteration 61/100\n",
            "40/40 [==============================] - 0s 2ms/step - loss: 0.0104\n",
            "Iteration 62/100\n",
            "40/40 [==============================] - 0s 2ms/step - loss: 0.0103\n",
            "Iteration 63/100\n",
            "40/40 [==============================] - 0s 3ms/step - loss: 0.0102\n",
            "Iteration 64/100\n",
            "40/40 [==============================] - 0s 3ms/step - loss: 0.0101\n",
            "Iteration 65/100\n",
            "40/40 [==============================] - 0s 3ms/step - loss: 0.0100\n",
            "Iteration 66/100\n",
            "40/40 [==============================] - 0s 3ms/step - loss: 0.0099\n",
            "Iteration 67/100\n",
            "40/40 [==============================] - 0s 3ms/step - loss: 0.0098\n",
            "Iteration 68/100\n",
            "40/40 [==============================] - 0s 3ms/step - loss: 0.0098\n",
            "Iteration 69/100\n",
            "40/40 [==============================] - 0s 2ms/step - loss: 0.0097\n",
            "Iteration 70/100\n",
            "40/40 [==============================] - 0s 3ms/step - loss: 0.0096\n",
            "Iteration 71/100\n",
            "40/40 [==============================] - 0s 3ms/step - loss: 0.0095\n",
            "Iteration 72/100\n",
            "40/40 [==============================] - 0s 3ms/step - loss: 0.0095\n",
            "Iteration 73/100\n",
            "40/40 [==============================] - 0s 3ms/step - loss: 0.0094\n",
            "Iteration 74/100\n",
            "40/40 [==============================] - 0s 3ms/step - loss: 0.0093\n",
            "Iteration 75/100\n",
            "40/40 [==============================] - 0s 4ms/step - loss: 0.0092\n",
            "Iteration 76/100\n",
            "40/40 [==============================] - 0s 3ms/step - loss: 0.0092\n",
            "Iteration 77/100\n",
            "40/40 [==============================] - 0s 3ms/step - loss: 0.0091\n",
            "Iteration 78/100\n",
            "40/40 [==============================] - 0s 3ms/step - loss: 0.0090\n",
            "Iteration 79/100\n",
            "40/40 [==============================] - 0s 3ms/step - loss: 0.0090\n",
            "Iteration 80/100\n",
            "40/40 [==============================] - 0s 3ms/step - loss: 0.0089\n",
            "Iteration 81/100\n",
            "40/40 [==============================] - 0s 3ms/step - loss: 0.0089\n",
            "Iteration 82/100\n",
            "40/40 [==============================] - 0s 3ms/step - loss: 0.0088\n",
            "Iteration 83/100\n",
            "40/40 [==============================] - 0s 3ms/step - loss: 0.0088\n",
            "Iteration 84/100\n",
            "40/40 [==============================] - 0s 3ms/step - loss: 0.0087\n",
            "Iteration 85/100\n",
            "40/40 [==============================] - 0s 3ms/step - loss: 0.0086\n",
            "Iteration 86/100\n",
            "40/40 [==============================] - 0s 3ms/step - loss: 0.0086\n",
            "Iteration 87/100\n",
            "40/40 [==============================] - 0s 4ms/step - loss: 0.0085\n",
            "Iteration 88/100\n",
            "40/40 [==============================] - 0s 4ms/step - loss: 0.0085\n",
            "Iteration 89/100\n",
            "40/40 [==============================] - 0s 4ms/step - loss: 0.0084\n",
            "Iteration 90/100\n",
            "40/40 [==============================] - 0s 4ms/step - loss: 0.0084\n",
            "Iteration 91/100\n",
            "40/40 [==============================] - 0s 4ms/step - loss: 0.0083\n",
            "Iteration 92/100\n",
            "40/40 [==============================] - 0s 3ms/step - loss: 0.0083\n",
            "Iteration 93/100\n",
            "40/40 [==============================] - 0s 3ms/step - loss: 0.0082\n",
            "Iteration 94/100\n",
            "40/40 [==============================] - 0s 3ms/step - loss: 0.0082\n",
            "Iteration 95/100\n",
            "40/40 [==============================] - 0s 3ms/step - loss: 0.0081\n",
            "Iteration 96/100\n",
            "40/40 [==============================] - 0s 3ms/step - loss: 0.0081\n",
            "Iteration 97/100\n",
            "40/40 [==============================] - 0s 2ms/step - loss: 0.0080\n",
            "Iteration 98/100\n",
            "40/40 [==============================] - 0s 2ms/step - loss: 0.0080\n",
            "Iteration 99/100\n",
            "40/40 [==============================] - 0s 3ms/step - loss: 0.0079\n",
            "Iteration 100/100\n",
            "40/40 [==============================] - 0s 3ms/step - loss: 0.0079\n"
          ],
          "name": "stdout"
        }
      ]
    },
    {
      "cell_type": "code",
      "metadata": {
        "colab": {
          "base_uri": "https://localhost:8080/",
          "height": 324
        },
        "id": "Tk7bHblJ0v6v",
        "outputId": "246cf4f7-5ddb-4682-b987-fcb66cf6b528"
      },
      "source": [
        "plt.figure(figsize=(6,4))\n",
        "plt.figure(dpi=86)\n",
        "plt.plot(loss, label='loss',color='Maroon',linewidth=2.5)\n",
        "plt.title('Model Loss History',fontsize=8,fontweight='bold')\n",
        "plt.xlabel('epoch',fontsize=8,fontweight='bold')\n",
        "plt.ylabel('loss',fontsize=8,fontweight='bold')\n",
        "plt.legend(prop={\"size\":8})\n",
        "plt.tight_layout(3)\n",
        "plt.show()"
      ],
      "execution_count": 71,
      "outputs": [
        {
          "output_type": "display_data",
          "data": {
            "text/plain": [
              "<Figure size 432x288 with 0 Axes>"
            ]
          },
          "metadata": {
            "tags": []
          }
        },
        {
          "output_type": "display_data",
          "data": {
            "image/png": "[encoded data removed]",
            "text/plain": [
              "<Figure size 516x344 with 1 Axes>"
            ]
          },
          "metadata": {
            "tags": [],
            "needs_background": "light"
          }
        }
      ]
    },
    {
      "cell_type": "code",
      "metadata": {
        "id": "z9dDua8n011P"
      },
      "source": [
        "train_predict = model.predict(X_train, batch_size=batch_size)"
      ],
      "execution_count": 72,
      "outputs": []
    },
    {
      "cell_type": "code",
      "metadata": {
        "id": "wQnBmol305nv"
      },
      "source": [
        "days_to_predict = X_test.shape[0]\n",
        "test_predict = []\n",
        "pred_samples = train_predict[-1:]\n",
        "pred_samples = np.array([pred_samples])\n",
        "for i in range(days_to_predict):\n",
        "    pred = model.predict(X_test[i:(i+1)], batch_size=batch_size)\n",
        "    pred = np.array(pred).flatten()\n",
        "    test_predict.append(pred)\n",
        "test_predict = np.array(test_predict).reshape(1, len(test_predict), 1)"
      ],
      "execution_count": 73,
      "outputs": []
    },
    {
      "cell_type": "code",
      "metadata": {
        "id": "zgy0iaR409-x"
      },
      "source": [
        "model.reset_states()"
      ],
      "execution_count": 74,
      "outputs": []
    },
    {
      "cell_type": "code",
      "metadata": {
        "id": "IlfGNNST1BvZ"
      },
      "source": [
        "X_train_flatten = np.array(scaler.inverse_transform(\n",
        "    np.array(X_train).reshape(X_train.shape[0], 1)\n",
        ")).flatten().astype('int')\n",
        "Y_train_flatten = np.array(scaler.inverse_transform(\n",
        "    np.array(Y_train).reshape(Y_train.shape[0], 1)\n",
        ")).flatten().astype('int')\n",
        "train_predict_flatten = np.array(scaler.inverse_transform(\n",
        "    np.array(train_predict).reshape(train_predict.shape[0], 1)\n",
        ")).flatten().astype('int')\n",
        "X_test_flatten = np.array(scaler.inverse_transform(\n",
        "    np.array(X_test).reshape(X_test.shape[0], 1)\n",
        ")).flatten().astype('int')\n",
        "Y_test_flatten = np.array(scaler.inverse_transform(\n",
        "    np.array(Y_test).reshape(Y_test.shape[0], 1)\n",
        ")).flatten().astype('int')\n",
        "test_predict_flatten = np.array(scaler.inverse_transform(\n",
        "    np.array(test_predict).reshape(test_predict.shape[1], 1)\n",
        ")).flatten().astype('int')"
      ],
      "execution_count": 75,
      "outputs": []
    },
    {
      "cell_type": "code",
      "metadata": {
        "id": "NZv-cS0m1DfW"
      },
      "source": [
        "train_predict_score = math.sqrt(\n",
        "    mean_squared_error(\n",
        "        Y_train_flatten, \n",
        "        train_predict_flatten\n",
        "    )\n",
        ")\n",
        "test_predict_score = math.sqrt(\n",
        "    mean_squared_error(\n",
        "        Y_test_flatten, \n",
        "        test_predict_flatten\n",
        "    )\n",
        ")"
      ],
      "execution_count": 76,
      "outputs": []
    },
    {
      "cell_type": "code",
      "metadata": {
        "colab": {
          "base_uri": "https://localhost:8080/",
          "height": 36
        },
        "id": "dzzgBxJa1GxZ",
        "outputId": "35f3eb52-dd0b-48e2-f792-d03bb05ef7f3"
      },
      "source": [
        "'Train Score: %.2f RMSE' % (train_predict_score)"
      ],
      "execution_count": 77,
      "outputs": [
        {
          "output_type": "execute_result",
          "data": {
            "application/vnd.google.colaboratory.intrinsic+json": {
              "type": "string"
            },
            "text/plain": [
              "'Train Score: 197.27 RMSE'"
            ]
          },
          "metadata": {
            "tags": []
          },
          "execution_count": 77
        }
      ]
    },
    {
      "cell_type": "code",
      "metadata": {
        "colab": {
          "base_uri": "https://localhost:8080/",
          "height": 36
        },
        "id": "8MWk1MiY1KXy",
        "outputId": "4788e533-adf5-47e7-f5d2-c564eec308a2"
      },
      "source": [
        "'Test Score: %.2f RMSE' % (test_predict_score)"
      ],
      "execution_count": 78,
      "outputs": [
        {
          "output_type": "execute_result",
          "data": {
            "application/vnd.google.colaboratory.intrinsic+json": {
              "type": "string"
            },
            "text/plain": [
              "'Test Score: 2611.56 RMSE'"
            ]
          },
          "metadata": {
            "tags": []
          },
          "execution_count": 78
        }
      ]
    },
    {
      "cell_type": "code",
      "metadata": {
        "colab": {
          "base_uri": "https://localhost:8080/",
          "height": 353
        },
        "id": "P9S1A5JH1Tuq",
        "outputId": "e43764cb-b345-4b5d-f18f-af48f07d4935"
      },
      "source": [
        "plt.figure(figsize=(8, 5))\n",
        "plt.figure(dpi=86)\n",
        "plt.plot(\n",
        "    cases.index[:len(X_train_flatten)],\n",
        "    X_train_flatten,\n",
        "    label='train (true value)',linewidth=2.5\n",
        ")\n",
        "plt.plot(\n",
        "    cases.index[:len(train_predict_flatten)],\n",
        "    train_predict_flatten,\n",
        "    label='train (predict value)',linewidth=2.5\n",
        ")\n",
        "plt.plot(\n",
        "    cases.index[len(X_train_flatten):len(X_train_flatten) + len(X_test_flatten)],\n",
        "    X_test_flatten,\n",
        "    label='test (true value)',linewidth=2.5\n",
        ")\n",
        "plt.plot(\n",
        "    cases.index[len(X_train_flatten):len(X_train_flatten) + len(test_predict_flatten)],\n",
        "    test_predict_flatten,\n",
        "    label='test (predict value)',linewidth=2.5\n",
        ")\n",
        "plt.suptitle('Historical Training Test Based on Confirmed Case in Bangladesh',fontsize=8,fontweight='bold')\n",
        "plt.xlabel('Date',fontsize=8,fontweight='bold')\n",
        "plt.ylabel('Confirmed case',fontsize=8,fontweight='bold')\n",
        "plt.xticks(rotation=70)\n",
        "plt.legend(prop={\"size\":8})\n",
        "plt.tight_layout(3)\n",
        "plt.show()"
      ],
      "execution_count": 79,
      "outputs": [
        {
          "output_type": "display_data",
          "data": {
            "text/plain": [
              "<Figure size 576x360 with 0 Axes>"
            ]
          },
          "metadata": {
            "tags": []
          }
        },
        {
          "output_type": "display_data",
          "data": {
            "image/png": "[encoded data removed]",
            "text/plain": [
              "<Figure size 516x344 with 1 Axes>"
            ]
          },
          "metadata": {
            "tags": [],
            "needs_background": "light"
          }
        }
      ]
    },
    {
      "cell_type": "code",
      "metadata": {
        "id": "Ix1fBnjW1b1t"
      },
      "source": [
        "model.reset_states()"
      ],
      "execution_count": 80,
      "outputs": []
    },
    {
      "cell_type": "code",
      "metadata": {
        "colab": {
          "base_uri": "https://localhost:8080/"
        },
        "id": "cQSfzWuR1gjU",
        "outputId": "16bb64e7-101a-4f82-8b82-8a4416eba98d"
      },
      "source": [
        "epoch = EPOCHS\n",
        "loss = []\n",
        "for i in range(epoch):\n",
        "    print('Iteration ' + str(i + 1) + '/' + str(epoch))\n",
        "    model.fit(X_all, Y_all, batch_size=batch_size, \n",
        "              epochs=1, verbose=1, shuffle=False)\n",
        "    h = model.history\n",
        "    loss.append(h.history['loss'][0])\n",
        "    model.reset_states()"
      ],
      "execution_count": 81,
      "outputs": [
        {
          "output_type": "stream",
          "text": [
            "Iteration 1/100\n",
            "57/57 [==============================] - 0s 3ms/step - loss: 0.2466\n",
            "Iteration 2/100\n",
            "57/57 [==============================] - 0s 4ms/step - loss: 0.2480\n",
            "Iteration 3/100\n",
            "57/57 [==============================] - 0s 5ms/step - loss: 0.2028\n",
            "Iteration 4/100\n",
            "57/57 [==============================] - 0s 4ms/step - loss: 0.1779\n",
            "Iteration 5/100\n",
            "57/57 [==============================] - 0s 3ms/step - loss: 0.1583\n",
            "Iteration 6/100\n",
            "57/57 [==============================] - 0s 3ms/step - loss: 0.1433\n",
            "Iteration 7/100\n",
            "57/57 [==============================] - 0s 4ms/step - loss: 0.1320\n",
            "Iteration 8/100\n",
            "57/57 [==============================] - 0s 4ms/step - loss: 0.1229\n",
            "Iteration 9/100\n",
            "57/57 [==============================] - 0s 3ms/step - loss: 0.1147\n",
            "Iteration 10/100\n",
            "57/57 [==============================] - 0s 5ms/step - loss: 0.1071\n",
            "Iteration 11/100\n",
            "57/57 [==============================] - 0s 5ms/step - loss: 0.1004\n",
            "Iteration 12/100\n",
            "57/57 [==============================] - 0s 4ms/step - loss: 0.0945\n",
            "Iteration 13/100\n",
            "57/57 [==============================] - 0s 4ms/step - loss: 0.0895\n",
            "Iteration 14/100\n",
            "57/57 [==============================] - 0s 4ms/step - loss: 0.0851\n",
            "Iteration 15/100\n",
            "57/57 [==============================] - 0s 3ms/step - loss: 0.0813\n",
            "Iteration 16/100\n",
            "57/57 [==============================] - 0s 3ms/step - loss: 0.0779\n",
            "Iteration 17/100\n",
            "57/57 [==============================] - 0s 3ms/step - loss: 0.0749\n",
            "Iteration 18/100\n",
            "57/57 [==============================] - 0s 3ms/step - loss: 0.0721\n",
            "Iteration 19/100\n",
            "57/57 [==============================] - 0s 5ms/step - loss: 0.0696\n",
            "Iteration 20/100\n",
            "57/57 [==============================] - 0s 3ms/step - loss: 0.0673\n",
            "Iteration 21/100\n",
            "57/57 [==============================] - 0s 4ms/step - loss: 0.0652\n",
            "Iteration 22/100\n",
            "57/57 [==============================] - 0s 3ms/step - loss: 0.0633\n",
            "Iteration 23/100\n",
            "57/57 [==============================] - 0s 3ms/step - loss: 0.0615\n",
            "Iteration 24/100\n",
            "57/57 [==============================] - 0s 4ms/step - loss: 0.0599\n",
            "Iteration 25/100\n",
            "57/57 [==============================] - 0s 3ms/step - loss: 0.0583\n",
            "Iteration 26/100\n",
            "57/57 [==============================] - 0s 3ms/step - loss: 0.0569\n",
            "Iteration 27/100\n",
            "57/57 [==============================] - 0s 3ms/step - loss: 0.0556\n",
            "Iteration 28/100\n",
            "57/57 [==============================] - 0s 5ms/step - loss: 0.0543\n",
            "Iteration 29/100\n",
            "57/57 [==============================] - 0s 4ms/step - loss: 0.0532\n",
            "Iteration 30/100\n",
            "57/57 [==============================] - 0s 4ms/step - loss: 0.0521\n",
            "Iteration 31/100\n",
            "57/57 [==============================] - 0s 5ms/step - loss: 0.0511\n",
            "Iteration 32/100\n",
            "57/57 [==============================] - 0s 4ms/step - loss: 0.0501\n",
            "Iteration 33/100\n",
            "57/57 [==============================] - 0s 3ms/step - loss: 0.0491\n",
            "Iteration 34/100\n",
            "57/57 [==============================] - 0s 3ms/step - loss: 0.0483\n",
            "Iteration 35/100\n",
            "57/57 [==============================] - 0s 3ms/step - loss: 0.0475\n",
            "Iteration 36/100\n",
            "57/57 [==============================] - 0s 4ms/step - loss: 0.0467\n",
            "Iteration 37/100\n",
            "57/57 [==============================] - 0s 4ms/step - loss: 0.0460\n",
            "Iteration 38/100\n",
            "57/57 [==============================] - 0s 4ms/step - loss: 0.0453\n",
            "Iteration 39/100\n",
            "57/57 [==============================] - 0s 3ms/step - loss: 0.0447\n",
            "Iteration 40/100\n",
            "57/57 [==============================] - 0s 3ms/step - loss: 0.0440\n",
            "Iteration 41/100\n",
            "57/57 [==============================] - 0s 4ms/step - loss: 0.0434\n",
            "Iteration 42/100\n",
            "57/57 [==============================] - 0s 4ms/step - loss: 0.0427\n",
            "Iteration 43/100\n",
            "57/57 [==============================] - 0s 3ms/step - loss: 0.0420\n",
            "Iteration 44/100\n",
            "57/57 [==============================] - 0s 6ms/step - loss: 0.0413\n",
            "Iteration 45/100\n",
            "57/57 [==============================] - 0s 4ms/step - loss: 0.0405\n",
            "Iteration 46/100\n",
            "57/57 [==============================] - 0s 4ms/step - loss: 0.0397\n",
            "Iteration 47/100\n",
            "57/57 [==============================] - 0s 5ms/step - loss: 0.0389\n",
            "Iteration 48/100\n",
            "57/57 [==============================] - 0s 4ms/step - loss: 0.0380\n",
            "Iteration 49/100\n",
            "57/57 [==============================] - 0s 3ms/step - loss: 0.0371\n",
            "Iteration 50/100\n",
            "57/57 [==============================] - 0s 3ms/step - loss: 0.0362\n",
            "Iteration 51/100\n",
            "57/57 [==============================] - 0s 3ms/step - loss: 0.0353\n",
            "Iteration 52/100\n",
            "57/57 [==============================] - 0s 3ms/step - loss: 0.0345\n",
            "Iteration 53/100\n",
            "57/57 [==============================] - 0s 4ms/step - loss: 0.0337\n",
            "Iteration 54/100\n",
            "57/57 [==============================] - 0s 4ms/step - loss: 0.0329\n",
            "Iteration 55/100\n",
            "57/57 [==============================] - 0s 3ms/step - loss: 0.0322\n",
            "Iteration 56/100\n",
            "57/57 [==============================] - 0s 4ms/step - loss: 0.0315\n",
            "Iteration 57/100\n",
            "57/57 [==============================] - 0s 3ms/step - loss: 0.0309\n",
            "Iteration 58/100\n",
            "57/57 [==============================] - 0s 4ms/step - loss: 0.0302\n",
            "Iteration 59/100\n",
            "57/57 [==============================] - 0s 3ms/step - loss: 0.0296\n",
            "Iteration 60/100\n",
            "57/57 [==============================] - 0s 3ms/step - loss: 0.0290\n",
            "Iteration 61/100\n",
            "57/57 [==============================] - 0s 3ms/step - loss: 0.0285\n",
            "Iteration 62/100\n",
            "57/57 [==============================] - 0s 4ms/step - loss: 0.0279\n",
            "Iteration 63/100\n",
            "57/57 [==============================] - 0s 4ms/step - loss: 0.0273\n",
            "Iteration 64/100\n",
            "57/57 [==============================] - 0s 4ms/step - loss: 0.0268\n",
            "Iteration 65/100\n",
            "57/57 [==============================] - 0s 4ms/step - loss: 0.0263\n",
            "Iteration 66/100\n",
            "57/57 [==============================] - 0s 5ms/step - loss: 0.0258\n",
            "Iteration 67/100\n",
            "57/57 [==============================] - 0s 4ms/step - loss: 0.0253\n",
            "Iteration 68/100\n",
            "57/57 [==============================] - 0s 4ms/step - loss: 0.0249\n",
            "Iteration 69/100\n",
            "57/57 [==============================] - 0s 4ms/step - loss: 0.0244\n",
            "Iteration 70/100\n",
            "57/57 [==============================] - 0s 5ms/step - loss: 0.0240\n",
            "Iteration 71/100\n",
            "57/57 [==============================] - 0s 3ms/step - loss: 0.0235\n",
            "Iteration 72/100\n",
            "57/57 [==============================] - 0s 3ms/step - loss: 0.0231\n",
            "Iteration 73/100\n",
            "57/57 [==============================] - 0s 3ms/step - loss: 0.0227\n",
            "Iteration 74/100\n",
            "57/57 [==============================] - 0s 4ms/step - loss: 0.0223\n",
            "Iteration 75/100\n",
            "57/57 [==============================] - 0s 5ms/step - loss: 0.0220\n",
            "Iteration 76/100\n",
            "57/57 [==============================] - 0s 4ms/step - loss: 0.0216\n",
            "Iteration 77/100\n",
            "57/57 [==============================] - 0s 3ms/step - loss: 0.0213\n",
            "Iteration 78/100\n",
            "57/57 [==============================] - 0s 3ms/step - loss: 0.0209\n",
            "Iteration 79/100\n",
            "57/57 [==============================] - 0s 5ms/step - loss: 0.0206\n",
            "Iteration 80/100\n",
            "57/57 [==============================] - 0s 4ms/step - loss: 0.0203\n",
            "Iteration 81/100\n",
            "57/57 [==============================] - 0s 4ms/step - loss: 0.0200\n",
            "Iteration 82/100\n",
            "57/57 [==============================] - 0s 4ms/step - loss: 0.0197\n",
            "Iteration 83/100\n",
            "57/57 [==============================] - 0s 4ms/step - loss: 0.0194\n",
            "Iteration 84/100\n",
            "57/57 [==============================] - 0s 4ms/step - loss: 0.0191\n",
            "Iteration 85/100\n",
            "57/57 [==============================] - 0s 3ms/step - loss: 0.0188\n",
            "Iteration 86/100\n",
            "57/57 [==============================] - 0s 4ms/step - loss: 0.0186\n",
            "Iteration 87/100\n",
            "57/57 [==============================] - 0s 3ms/step - loss: 0.0183\n",
            "Iteration 88/100\n",
            "57/57 [==============================] - 0s 3ms/step - loss: 0.0181\n",
            "Iteration 89/100\n",
            "57/57 [==============================] - 0s 3ms/step - loss: 0.0178\n",
            "Iteration 90/100\n",
            "57/57 [==============================] - 0s 4ms/step - loss: 0.0176\n",
            "Iteration 91/100\n",
            "57/57 [==============================] - 0s 4ms/step - loss: 0.0173\n",
            "Iteration 92/100\n",
            "57/57 [==============================] - 0s 3ms/step - loss: 0.0171\n",
            "Iteration 93/100\n",
            "57/57 [==============================] - 0s 4ms/step - loss: 0.0169\n",
            "Iteration 94/100\n",
            "57/57 [==============================] - 0s 4ms/step - loss: 0.0167\n",
            "Iteration 95/100\n",
            "57/57 [==============================] - 0s 4ms/step - loss: 0.0165\n",
            "Iteration 96/100\n",
            "57/57 [==============================] - 0s 4ms/step - loss: 0.0163\n",
            "Iteration 97/100\n",
            "57/57 [==============================] - 0s 5ms/step - loss: 0.0161\n",
            "Iteration 98/100\n",
            "57/57 [==============================] - 0s 5ms/step - loss: 0.0159\n",
            "Iteration 99/100\n",
            "57/57 [==============================] - 0s 4ms/step - loss: 0.0157\n",
            "Iteration 100/100\n",
            "57/57 [==============================] - 0s 3ms/step - loss: 0.0156\n"
          ],
          "name": "stdout"
        }
      ]
    },
    {
      "cell_type": "code",
      "metadata": {
        "colab": {
          "base_uri": "https://localhost:8080/",
          "height": 324
        },
        "id": "oLt4q3zV1vCH",
        "outputId": "2c8b8f49-8cfd-4eab-81c5-376329c323db"
      },
      "source": [
        "plt.figure(figsize=(6,4))\n",
        "plt.figure(dpi=86)\n",
        "plt.plot(loss, label='loss',color='Maroon',linewidth=2.5)\n",
        "plt.title('Model Loss History',fontsize=8,fontweight='bold')\n",
        "plt.xlabel('epoch',fontsize=8,fontweight='bold')\n",
        "plt.ylabel('loss',fontsize=8,fontweight='bold')\n",
        "plt.legend(prop={\"size\":8})\n",
        "plt.tight_layout(3)\n",
        "plt.show()"
      ],
      "execution_count": 82,
      "outputs": [
        {
          "output_type": "display_data",
          "data": {
            "text/plain": [
              "<Figure size 432x288 with 0 Axes>"
            ]
          },
          "metadata": {
            "tags": []
          }
        },
        {
          "output_type": "display_data",
          "data": {
            "image/png": "[encoded data removed]",
            "text/plain": [
              "<Figure size 516x344 with 1 Axes>"
            ]
          },
          "metadata": {
            "tags": [],
            "needs_background": "light"
          }
        }
      ]
    },
    {
      "cell_type": "code",
      "metadata": {
        "id": "TpIMHl2210nP"
      },
      "source": [
        "all_predict = model.predict(X_all, batch_size=batch_size)"
      ],
      "execution_count": 83,
      "outputs": []
    },
    {
      "cell_type": "code",
      "metadata": {
        "id": "B-uo1cMv14Ri"
      },
      "source": [
        "days_to_predict = DAYS_TO_PREDICT\n",
        "future_predict = []\n",
        "pred_samples = all_predict[-1:]\n",
        "pred_samples = np.array([pred_samples])\n",
        "for i in range(days_to_predict):\n",
        "    pred = model.predict(pred_samples, batch_size=batch_size)\n",
        "    pred = np.array(pred).flatten()\n",
        "    future_predict.append(pred)\n",
        "    new_samples = np.array(pred_samples).flatten()\n",
        "    new_samples = np.append(new_samples, [pred])\n",
        "    new_samples = new_samples[1:]\n",
        "    pred_samples = np.array(new_samples).reshape(1, 1, 1)\n",
        "future_predict = np.array(future_predict).reshape(len(future_predict), 1, 1)"
      ],
      "execution_count": 84,
      "outputs": []
    },
    {
      "cell_type": "code",
      "metadata": {
        "id": "ksMGVzDf2Bmr"
      },
      "source": [
        "model.reset_states()"
      ],
      "execution_count": 85,
      "outputs": []
    },
    {
      "cell_type": "code",
      "metadata": {
        "id": "2_QWsLNP2GCE"
      },
      "source": [
        "f_future_predict = model.predict(future_predict, batch_size=batch_size)"
      ],
      "execution_count": 86,
      "outputs": []
    },
    {
      "cell_type": "code",
      "metadata": {
        "id": "Pjxa258N2Kq5"
      },
      "source": [
        "model.reset_states()"
      ],
      "execution_count": 87,
      "outputs": []
    },
    {
      "cell_type": "code",
      "metadata": {
        "id": "o_piVp-D2OOa"
      },
      "source": [
        "X_all_flatten = np.array(scaler.inverse_transform(\n",
        "    np.array(X_all).reshape(X_all.shape[0], 1)\n",
        ")).flatten().astype('int')\n",
        "X_all_flatten = np.absolute(X_all_flatten)\n",
        "Y_all_flatten = np.array(scaler.inverse_transform(\n",
        "    np.array(Y_all).reshape(Y_all.shape[0], 1)\n",
        ")).flatten().astype('int')\n",
        "Y_all_flatten = np.absolute(Y_all_flatten)\n",
        "all_predict_flatten = np.array(scaler.inverse_transform(\n",
        "    np.array(all_predict).reshape(all_predict.shape[0], 1)\n",
        ")).flatten().astype('int')\n",
        "all_predict_flatten = np.absolute(all_predict_flatten)\n",
        "future_predict_flatten = np.array(scaler.inverse_transform(\n",
        "    np.array(future_predict).reshape(future_predict.shape[0], 1)\n",
        ")).flatten().astype('int')\n",
        "future_predict_flatten = np.absolute(future_predict_flatten)\n",
        "f_future_predict_flatten = np.array(scaler.inverse_transform(\n",
        "    np.array(f_future_predict).reshape(f_future_predict.shape[0], 1)\n",
        ")).flatten().astype('int')\n",
        "f_future_predict_flatten = np.absolute(f_future_predict_flatten)"
      ],
      "execution_count": 88,
      "outputs": []
    },
    {
      "cell_type": "code",
      "metadata": {
        "id": "J5cZGgnp2P3Y"
      },
      "source": [
        "all_predict_score = math.sqrt(\n",
        "    mean_squared_error(\n",
        "        Y_all_flatten, \n",
        "        all_predict_flatten\n",
        "    )\n",
        ")"
      ],
      "execution_count": 89,
      "outputs": []
    },
    {
      "cell_type": "code",
      "metadata": {
        "colab": {
          "base_uri": "https://localhost:8080/",
          "height": 36
        },
        "id": "TBIFsus92ToZ",
        "outputId": "99118417-b047-4a9c-9af0-d7a2eb2f8ed4"
      },
      "source": [
        "'All Score: %.2f RMSE' % (all_predict_score)"
      ],
      "execution_count": 90,
      "outputs": [
        {
          "output_type": "execute_result",
          "data": {
            "application/vnd.google.colaboratory.intrinsic+json": {
              "type": "string"
            },
            "text/plain": [
              "'All Score: 313.09 RMSE'"
            ]
          },
          "metadata": {
            "tags": []
          },
          "execution_count": 90
        }
      ]
    },
    {
      "cell_type": "code",
      "metadata": {
        "id": "7UAvb9tB2XDF"
      },
      "source": [
        "future_index = pd.date_range(start=cases.index[-1], periods=days_to_predict + 1, closed='right')"
      ],
      "execution_count": 91,
      "outputs": []
    },
    {
      "cell_type": "code",
      "metadata": {
        "colab": {
          "base_uri": "https://localhost:8080/",
          "height": 353
        },
        "id": "Gi2yG-Pc2asj",
        "outputId": "d65d9f4b-f539-4a6b-c832-208733d62bff"
      },
      "source": [
        "plt.figure(figsize=(6,4))\n",
        "plt.figure(dpi=86)\n",
        "plt.plot(\n",
        "    future_index,\n",
        "    future_predict_flatten,\n",
        "    label='Prediction Confirmed Cases',\n",
        "    color='red',\n",
        "    linewidth=2.5\n",
        ")\n",
        "plt.suptitle('Future Prediction Based on Per Day Confirmed Case in Bangladesh',fontsize=8,fontweight='bold')\n",
        "plt.xlabel('Date',fontsize=8,fontweight='bold')\n",
        "plt.ylabel('Confirmed Case',fontsize=8,fontweight='bold')\n",
        "plt.xticks(rotation=70)\n",
        "plt.legend(prop={\"size\":8})\n",
        "plt.tight_layout(3)\n",
        "plt.show()  "
      ],
      "execution_count": 92,
      "outputs": [
        {
          "output_type": "display_data",
          "data": {
            "text/plain": [
              "<Figure size 432x288 with 0 Axes>"
            ]
          },
          "metadata": {
            "tags": []
          }
        },
        {
          "output_type": "display_data",
          "data": {
            "image/png": "[encoded data removed]",
            "text/plain": [
              "<Figure size 516x344 with 1 Axes>"
            ]
          },
          "metadata": {
            "tags": [],
            "needs_background": "light"
          }
        }
      ]
    },
    {
      "cell_type": "code",
      "metadata": {
        "colab": {
          "base_uri": "https://localhost:8080/",
          "height": 353
        },
        "id": "Eq9mIqYM2fdS",
        "outputId": "2aa573b6-777c-49ae-d8b1-fef73305b3fa"
      },
      "source": [
        "plt.figure(figsize=(8, 5))\n",
        "plt.figure(dpi= 86)\n",
        "plt.plot(\n",
        "    cases.index[:len(X_all_flatten)],\n",
        "    X_all_flatten,\n",
        "    label='Actual Confirmed Cases',\n",
        "    linewidth=2.5\n",
        ")\n",
        "plt.plot(\n",
        "    cases.index[:len(X_all_flatten)],\n",
        "    all_predict_flatten,\n",
        "    label='Actual Prediction Confirmed Cases',\n",
        "    linewidth=2.5\n",
        ")\n",
        "plt.plot(\n",
        "    future_index,\n",
        "    future_predict_flatten,\n",
        "    label='Predict up to ' + str(days_to_predict) + ' Days in the future',\n",
        "    linewidth=2.5\n",
        ")\n",
        "plt.plot(\n",
        "    future_index,\n",
        "    f_future_predict_flatten,\n",
        "    label='Future based on previous future prediction',\n",
        "    linewidth=2.5\n",
        ")\n",
        "\n",
        "plt.suptitle('Future Prediction Based on Per Day Confirmed Case in Bangladesh',fontsize=8,fontweight='bold')\n",
        "plt.xlabel('Date',fontsize=8,fontweight='bold')\n",
        "plt.ylabel('Confirmed Case',fontsize=8,fontweight='bold')\n",
        "plt.xticks(rotation=70)\n",
        "plt.legend(prop={\"size\":8})\n",
        "plt.tight_layout(3)\n",
        "plt.show()"
      ],
      "execution_count": 93,
      "outputs": [
        {
          "output_type": "display_data",
          "data": {
            "text/plain": [
              "<Figure size 576x360 with 0 Axes>"
            ]
          },
          "metadata": {
            "tags": []
          }
        },
        {
          "output_type": "display_data",
          "data": {
            "image/png": "[encoded data removed]",
            "text/plain": [
              "<Figure size 516x344 with 1 Axes>"
            ]
          },
          "metadata": {
            "tags": [],
            "needs_background": "light"
          }
        }
      ]
    },
    {
      "cell_type": "markdown",
      "metadata": {
        "id": "VB2atoGu3G-5"
      },
      "source": [
        "RANDOM FOREST REGRESSION"
      ]
    },
    {
      "cell_type": "code",
      "metadata": {
        "id": "0IsbErOM3Jla"
      },
      "source": [
        "def data_split(data, look_back=1):\n",
        "    x, y = [], []\n",
        "    for i in range(len(data) - look_back - 1):\n",
        "        a = data[i:(i + look_back), 0]\n",
        "        x.append(a)\n",
        "        y.append(data[i + look_back, 0])\n",
        "    return np.array(x), np.array(y)"
      ],
      "execution_count": 94,
      "outputs": []
    },
    {
      "cell_type": "code",
      "metadata": {
        "id": "tfHlfE_T26O-"
      },
      "source": [
        "test_size = TEST_SIZE\n",
        "test_size = int(cases.shape[0] * test_size)\n",
        "train_cases = cases[:-test_size]\n",
        "test_cases = cases[-test_size:]"
      ],
      "execution_count": 95,
      "outputs": []
    },
    {
      "cell_type": "code",
      "metadata": {
        "id": "tHVuI_Ca3QWM"
      },
      "source": [
        "scaler = MinMaxScaler(feature_range=(-1, 1))\n",
        "scaler = scaler.fit(cases)\n",
        "all_cases = scaler.transform(cases)\n",
        "train_cases = scaler.transform(train_cases)\n",
        "test_cases = scaler.transform(test_cases)"
      ],
      "execution_count": 96,
      "outputs": []
    },
    {
      "cell_type": "code",
      "metadata": {
        "id": "UqfyP4aK3Te0"
      },
      "source": [
        "look_back = LOOK_BACK\n",
        "X_all, Y_all = data_split(all_cases, look_back=look_back)\n",
        "X_train, Y_train = data_split(train_cases, look_back=look_back)\n",
        "X_test, Y_test = data_split(test_cases, look_back=look_back)"
      ],
      "execution_count": 97,
      "outputs": []
    },
    {
      "cell_type": "code",
      "metadata": {
        "colab": {
          "base_uri": "https://localhost:8080/"
        },
        "id": "kFs-sz7D3V0y",
        "outputId": "3328a26c-7feb-4fbe-c49e-50d97972b93e"
      },
      "source": [
        "X_train.shape,Y_train.shape,X_test.shape,Y_test.shape"
      ],
      "execution_count": 98,
      "outputs": [
        {
          "output_type": "execute_result",
          "data": {
            "text/plain": [
              "((40, 1), (40,), (15, 1), (15,))"
            ]
          },
          "metadata": {
            "tags": []
          },
          "execution_count": 98
        }
      ]
    },
    {
      "cell_type": "code",
      "metadata": {
        "id": "aWUjREgz3ZOD"
      },
      "source": [
        "from sklearn.ensemble import RandomForestRegressor\n",
        "rf=RandomForestRegressor()\n",
        "model = rf.fit(X_train, Y_train)"
      ],
      "execution_count": 99,
      "outputs": []
    },
    {
      "cell_type": "code",
      "metadata": {
        "id": "6C9Xro9b3dtb"
      },
      "source": [
        "all_predict = model.predict(X_all)"
      ],
      "execution_count": 100,
      "outputs": []
    },
    {
      "cell_type": "code",
      "metadata": {
        "id": "Z4npajFu3e6E"
      },
      "source": [
        "Y_train_flatten = np.array(scaler.inverse_transform(\n",
        "    np.array(Y_train).reshape(Y_train.shape[0], 1)\n",
        ")).flatten().astype('int')\n",
        "Y_test_flatten = np.array(scaler.inverse_transform(\n",
        "    np.array(Y_test).reshape(Y_test.shape[0], 1)\n",
        ")).flatten().astype('int')\n",
        "all_predict_flatten = np.array(scaler.inverse_transform(\n",
        "    np.array(all_predict).reshape(all_predict.shape[0], 1)\n",
        ")).flatten().astype('int')\n",
        "all_predict_flatten = np.absolute(all_predict_flatten)"
      ],
      "execution_count": 101,
      "outputs": []
    },
    {
      "cell_type": "code",
      "metadata": {
        "id": "uolj-__33iEp"
      },
      "source": [
        "y_train_predict=model.predict(X_train)\n",
        "y_test_predict=model.predict(X_test)"
      ],
      "execution_count": 102,
      "outputs": []
    },
    {
      "cell_type": "code",
      "metadata": {
        "colab": {
          "base_uri": "https://localhost:8080/"
        },
        "id": "0J2IOXVQ3nm3",
        "outputId": "b11ad25b-f116-4c6c-cfd0-deb2f0334e8c"
      },
      "source": [
        "from sklearn.metrics import mean_squared_error\n",
        "import math\n",
        "\n",
        "print('Train RMSE')\n",
        "print(math.sqrt(mean_squared_error(Y_train_flatten,y_train_predict)))\n",
        "print('Test RMSE')\n",
        "print(math.sqrt(mean_squared_error(Y_test_flatten,y_test_predict)))\n"
      ],
      "execution_count": 103,
      "outputs": [
        {
          "output_type": "stream",
          "text": [
            "Train RMSE\n",
            "560.8730916701334\n",
            "Test RMSE\n",
            "3308.4662299468678\n"
          ],
          "name": "stdout"
        }
      ]
    },
    {
      "cell_type": "code",
      "metadata": {
        "colab": {
          "base_uri": "https://localhost:8080/"
        },
        "id": "UEcPqC3g3s1Y",
        "outputId": "54b38c81-6e20-4e18-fa98-a64ae0b87e2f"
      },
      "source": [
        "all_predict_score = math.sqrt(\n",
        "    mean_squared_error(\n",
        "        Y_all_flatten, \n",
        "        all_predict_flatten\n",
        "    )\n",
        ")\n",
        "print(\"All RMSE :\",all_predict_score)"
      ],
      "execution_count": 104,
      "outputs": [
        {
          "output_type": "stream",
          "text": [
            "All RMSE : 1217.6041761691529\n"
          ],
          "name": "stdout"
        }
      ]
    },
    {
      "cell_type": "markdown",
      "metadata": {
        "id": "qMqxA1Q43wrX"
      },
      "source": [
        "SVR"
      ]
    },
    {
      "cell_type": "code",
      "metadata": {
        "id": "NV0DHWRi3xvW"
      },
      "source": [
        "from sklearn.svm import SVR  \n",
        "svr = SVR(kernel='rbf', gamma=0.1) \n",
        "model2 = svr.fit(X_train, Y_train)"
      ],
      "execution_count": 105,
      "outputs": []
    },
    {
      "cell_type": "code",
      "metadata": {
        "id": "_ETH92xC3ub9"
      },
      "source": [
        "y_train_predict=model2.predict(X_train)"
      ],
      "execution_count": 106,
      "outputs": []
    },
    {
      "cell_type": "code",
      "metadata": {
        "colab": {
          "base_uri": "https://localhost:8080/"
        },
        "id": "D5eZUXeL323O",
        "outputId": "45737802-7c58-4979-b2d3-fb3509574abe"
      },
      "source": [
        "y_train_predict"
      ],
      "execution_count": 107,
      "outputs": [
        {
          "output_type": "execute_result",
          "data": {
            "text/plain": [
              "array([-0.87831844, -0.8718201 , -0.87871432, -0.87499132, -0.87895182,\n",
              "       -0.88922442, -0.89024928, -0.88835685, -0.88274941, -0.88267034,\n",
              "       -0.88029734, -0.88140498, -0.8903281 , -0.88756786, -0.87808089,\n",
              "       -0.88203773, -0.87831844, -0.88243313, -0.88124677, -0.88567319,\n",
              "       -0.88748895, -0.88440926, -0.88180047, -0.87950593, -0.88093033,\n",
              "       -0.87617992, -0.88116767, -0.88290753, -0.86705968, -0.87261311,\n",
              "       -0.86475767, -0.86436071, -0.86309037, -0.87063036, -0.86539276,\n",
              "       -0.84641825, -0.84110619, -0.83271775, -0.83011135, -0.82892756])"
            ]
          },
          "metadata": {
            "tags": []
          },
          "execution_count": 107
        }
      ]
    },
    {
      "cell_type": "code",
      "metadata": {
        "id": "tNVf0nDV357y"
      },
      "source": [
        "y_test_predict=model2.predict(X_test)"
      ],
      "execution_count": 108,
      "outputs": []
    },
    {
      "cell_type": "code",
      "metadata": {
        "colab": {
          "base_uri": "https://localhost:8080/"
        },
        "id": "CvhnFHto39ps",
        "outputId": "05b0725d-7d7f-4abc-a61b-2cd12f74bf1b"
      },
      "source": [
        "from sklearn.metrics import mean_squared_error\n",
        "import math\n",
        "\n",
        "print('Train RMSE')\n",
        "print(math.sqrt(mean_squared_error(Y_train_flatten,y_train_predict)))\n",
        "print('Test RMSE')\n",
        "print(math.sqrt(mean_squared_error(Y_test_flatten,y_test_predict)))"
      ],
      "execution_count": 109,
      "outputs": [
        {
          "output_type": "stream",
          "text": [
            "Train RMSE\n",
            "560.865688703284\n",
            "Test RMSE\n",
            "3308.442467767669\n"
          ],
          "name": "stdout"
        }
      ]
    },
    {
      "cell_type": "code",
      "metadata": {
        "colab": {
          "base_uri": "https://localhost:8080/"
        },
        "id": "xjKWswKZ4BdO",
        "outputId": "d6165064-4a1a-4562-fc68-ca762505072c"
      },
      "source": [
        "all_predict = model2.predict(X_all)\n",
        "all_predict_score = math.sqrt(\n",
        "    mean_squared_error(\n",
        "        Y_all_flatten, \n",
        "        all_predict_flatten\n",
        "    )\n",
        ")\n",
        "print(\"All RMSE\",all_predict_score)"
      ],
      "execution_count": 110,
      "outputs": [
        {
          "output_type": "stream",
          "text": [
            "All RMSE 1217.6041761691529\n"
          ],
          "name": "stdout"
        }
      ]
    }
  ]
}